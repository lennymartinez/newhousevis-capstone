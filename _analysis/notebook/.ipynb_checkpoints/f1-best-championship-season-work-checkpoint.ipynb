{
 "cells": [
  {
   "cell_type": "markdown",
   "metadata": {},
   "source": [
    "# Looking for the best Formula 1 season\n",
    "\n",
    "For my master's project, I'm making a piece about answering the question: **What championship winning team had the best Formula 1 season?**\n",
    "\n",
    "To answer this question I'll look at three different ways of defining best:\n",
    "\n",
    "1. most wins in season\n",
    "1. most podium spots in season\n",
    "1. finishing positions and consistency\n",
    "\n",
    "I'll be working with data provided by the [Ergast Developer API](https://ergast.com/mrd/)\n",
    "\n",
    "Other data sources I looked into:\n",
    "\n",
    "* [statsf1.com](https://www.statsf1.com/)\n",
    "* [formula1.com](https://formula1.com)\n",
    "\n",
    "Instead I went straight to the source for F1 information, [formula1.com](https://formula1.com), and scraped race information for each race from 1950 to 2018. There were some holes with how disqualifications and withdrawal were recorded (or not, in this case) as we went back in time to earlier seasons.\n",
    "\n",
    "Now I've gone and gotten data from [statsf1.com](https://www.statsf1.com/) which is tabulated in an easy to understand manner and is more complete than the formula1.com data, and doesn't have the issues of the Ergast data.\n",
    "\n",
    "In terms of defining best, I'll try three different things:\n",
    "\n",
    "1. Looking at the number of wins each team got in their season\n",
    "1. Looking at the podiums a team won during their season\n",
    "1. Averaging finishing positions to see how close they got to a perfect season (the case where they have the lowest average for each race)"
   ]
  }
 ],
 "metadata": {
  "kernelspec": {
   "display_name": "Python 3",
   "language": "python",
   "name": "python3"
  },
  "language_info": {
   "codemirror_mode": {
    "name": "ipython",
    "version": 3
   },
   "file_extension": ".py",
   "mimetype": "text/x-python",
   "name": "python",
   "nbconvert_exporter": "python",
   "pygments_lexer": "ipython3",
   "version": "3.7.3"
  }
 },
 "nbformat": 4,
 "nbformat_minor": 2
}
