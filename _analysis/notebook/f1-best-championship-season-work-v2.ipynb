{
 "cells": [
  {
   "cell_type": "markdown",
   "metadata": {},
   "source": [
    "# Looking for the best Formula 1 season\n",
    "\n",
    "For my master's project, I'm making a piece about answering the question: **What championship winning team had the best Formula 1 season?**\n",
    "\n",
    "To answer this question, I'll be checking three definitions of best:\n",
    "\n",
    "1. most wins in a season\n",
    "1. most podiums in a season\n",
    "1. how close was the performance to perfect\n",
    "\n",
    "To do this I was working with data provided by the [Ergast Developer API](https://ergast.com/mrd/). I noticed an error in the driver-constructor pairing for the 1950 season and wanted to verify things without moving forward. I was originally going to create a table of the driver-constructor pairs for each race, and then compare it with the data I had.\n",
    "\n",
    "Instead I went straight to the source for F1 information, [formula1.com](https://formula1.com), and scraped race information for each race from 1950 to 2018. There were some holes with how disqualifications and withdrawal were recorded (or not, in this case) as we went back in time to earlier seasons.\n",
    "\n",
    "Now I've gone and gotten data from [statsf1.com](https://www.statsf1.com/) which is tabulated in an easy to understand manner and is more complete than the formula1.com data."
   ]
  },
  {
   "cell_type": "code",
   "execution_count": 1,
   "metadata": {},
   "outputs": [],
   "source": [
    "import pandas as pd\n",
    "import numpy as np"
   ]
  },
  {
   "cell_type": "code",
   "execution_count": null,
   "metadata": {},
   "outputs": [],
   "source": [
    "race_results = pd.read_csv(\"../data/from_scripts/statsf1_race_results.csv\")"
   ]
  },
  {
   "cell_type": "code",
   "execution_count": null,
   "metadata": {},
   "outputs": [],
   "source": [
    "race_results.head(10)"
   ]
  },
  {
   "cell_type": "markdown",
   "metadata": {},
   "source": [
    "Let's verify that we have the right number of races. Between 1950 and the end of the 2018 season there were 997 races."
   ]
  },
  {
   "cell_type": "code",
   "execution_count": null,
   "metadata": {},
   "outputs": [],
   "source": [
    "race_results.race_id.max()"
   ]
  },
  {
   "cell_type": "markdown",
   "metadata": {},
   "source": [
    "Before we get to analysis I will process the `position` column. The position column gives us information about how the driver fared in the race. There are several options:\n",
    "\n",
    "* If the position is a number (in string form or otherwise) then that is the finishing position of the driver.\n",
    "* If the position is `&` then that driver record is for a shared drive and the finishing position of that driver is the same as the record directly above it.\n",
    "* If the position is `ab` then the driver retired\n",
    "* If the position is `f"
   ]
  }
 ],
 "metadata": {
  "kernelspec": {
   "display_name": "Python 3",
   "language": "python",
   "name": "python3"
  },
  "language_info": {
   "codemirror_mode": {
    "name": "ipython",
    "version": 3
   },
   "file_extension": ".py",
   "mimetype": "text/x-python",
   "name": "python",
   "nbconvert_exporter": "python",
   "pygments_lexer": "ipython3",
   "version": "3.7.3"
  }
 },
 "nbformat": 4,
 "nbformat_minor": 2
}
