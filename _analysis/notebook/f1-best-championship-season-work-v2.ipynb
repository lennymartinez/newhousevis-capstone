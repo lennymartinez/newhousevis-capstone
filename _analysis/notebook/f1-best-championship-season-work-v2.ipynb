{
 "cells": [
  {
   "cell_type": "markdown",
   "metadata": {},
   "source": [
    "# Looking for the best Formula 1 season\n",
    "\n",
    "For my master's project, I'm making a piece about answering the question: **What championship winning team had the best Formula 1 season?**\n",
    "\n",
    "To answer this question, I'll be checking three definitions of best:\n",
    "\n",
    "1. most wins in a season\n",
    "1. most podiums in a season\n",
    "1. how close was the performance to perfect\n",
    "\n",
    "To do this I was working with data provided by the [Ergast Developer API](https://ergast.com/mrd/). I noticed an error in the driver-constructor pairing for the 1950 season and wanted to verify things without moving forward. I was originally going to create a table of the driver-constructor pairs for each race, and then compare it with the data I had.\n",
    "\n",
    "Instead I went straight to the source for F1 information, [formula1.com](https://formula1.com), and scraped race information for each race from 1950 to 2018. There were some holes with how disqualifications and withdrawal were recorded (or not, in this case) as we went back in time to earlier seasons.\n",
    "\n",
    "Now I've gone and gotten data from [statsf1.com](https://www.statsf1.com/) which is tabulated in an easy to understand manner and is more complete than the formula1.com data."
   ]
  },
  {
   "cell_type": "code",
   "execution_count": 1,
   "metadata": {},
   "outputs": [],
   "source": [
    "import pandas as pd\n",
    "import numpy as np"
   ]
  },
  {
   "cell_type": "code",
   "execution_count": 2,
   "metadata": {},
   "outputs": [],
   "source": [
    "race_results = pd.read_csv(\"../data/from_scripts/statsf1_race_results.csv\")"
   ]
  },
  {
   "cell_type": "code",
   "execution_count": null,
   "metadata": {},
   "outputs": [],
   "source": [
    "race_results.head(30)"
   ]
  },
  {
   "cell_type": "markdown",
   "metadata": {},
   "source": [
    "Let's verify that we have the right number of races. Between 1950 and the end of the 2018 season there were 997 races."
   ]
  },
  {
   "cell_type": "code",
   "execution_count": null,
   "metadata": {},
   "outputs": [],
   "source": [
    "race_results.race_id.max()"
   ]
  },
  {
   "cell_type": "markdown",
   "metadata": {},
   "source": [
    "Before we get to analysis, there is some processing that needs to be done. First I want to fill in the teams."
   ]
  },
  {
   "cell_type": "code",
   "execution_count": null,
   "metadata": {},
   "outputs": [],
   "source": [
    "def update_teams(row):\n",
    "    prev = race_results.iloc[row.name -1]\n",
    "    if row.position == \"&\":\n",
    "        return prev.team\n",
    "    else:\n",
    "        return row.team\n",
    "    \n",
    "def update_constructor_long(row):\n",
    "    prev = race_results.iloc[row.name -1]\n",
    "    if row.position == \"&\":\n",
    "        return prev.constructor_long\n",
    "    else:\n",
    "        return row.constructor_long"
   ]
  },
  {
   "cell_type": "code",
   "execution_count": null,
   "metadata": {},
   "outputs": [],
   "source": [
    "race_results[\"team\"] = race_results.apply(update_teams, axis=1)\n",
    "race_results[\"constructor_long\"] = race_results.apply(update_teams, axis = 1)"
   ]
  },
  {
   "cell_type": "code",
   "execution_count": null,
   "metadata": {},
   "outputs": [],
   "source": [
    "race_results.head(30)"
   ]
  },
  {
   "cell_type": "markdown",
   "metadata": {},
   "source": [
    "Now we can look at processing the finishing order.  In scraping I had created a rough version of the final order, but now I want to refine it more.\n",
    "\n",
    "The position column gives us information about how the driver fared in the race. There are several options:\n",
    "\n",
    "* If the position is a number (in string form or otherwise) then that is the finishing position of the driver.\n",
    "* If the position is `&` then that driver record is for a shared drive and the finishing position of that driver is the same as the record directly above it.\n",
    "* If the position is `ab` then the driver retired during the race. The later they retired, the higher they ranked.\n",
    "* IF the position is `nc` the driver did not classify for the final positions, but did complete most of the race.\n",
    "* If the position is `f` then the driver withdrew from a race. They will ranked as the last possible spot.\n",
    "* If the position is `np` then the driver did not star the race, but was on the grid. They will be ranked as the last possible spot.\n",
    "* If the position is `dsq`, the driver was disqualified and their finishing position will be the the last possible spot.\n",
    "* If the position is `npq`, `nq`, `tf` or `exc` the driver's order will be ignored. \n",
    "\n",
    "We'll do it in two parts, first updating everything but the shared drives."
   ]
  },
  {
   "cell_type": "code",
   "execution_count": null,
   "metadata": {},
   "outputs": [],
   "source": [
    "def p_final(row):\n",
    "    race = race_results[race_results.race_id == row.race_id]\n",
    "    last_place = race.p_prelim.max()\n",
    "    avg_retire = np.round(race[race.position.isin([\"ab\", \"nc\"])].p_prelim.mean())\n",
    "    \n",
    "    if (row.position == \"dsq\") or (row.position == \"f\") or (row.position == \"np\"):\n",
    "        return last_place\n",
    "    else:\n",
    "        return row.p_prelim"
   ]
  },
  {
   "cell_type": "markdown",
   "metadata": {},
   "source": [
    "And then updating the shared drives:"
   ]
  },
  {
   "cell_type": "code",
   "execution_count": null,
   "metadata": {},
   "outputs": [],
   "source": [
    "shared_drives = race_results.index[race_results.position == \"&\"].tolist()\n",
    "\n",
    "def update_p_final(row):\n",
    "    prev = race_results.iloc[row.name -1]\n",
    "    if row.name in shared_drives:\n",
    "        return prev.p_final\n",
    "    else:\n",
    "        return row.p_final"
   ]
  },
  {
   "cell_type": "code",
   "execution_count": null,
   "metadata": {},
   "outputs": [],
   "source": [
    "race_results[\"p_final\"] = race_results.apply(p_final, axis =1)\n",
    "race_results[\"p_final\"] = race_results.apply(update_p_final, axis=1)"
   ]
  },
  {
   "cell_type": "code",
   "execution_count": null,
   "metadata": {},
   "outputs": [],
   "source": [
    "race_results[race_results.race_id == 273]"
   ]
  },
  {
   "cell_type": "code",
   "execution_count": null,
   "metadata": {},
   "outputs": [],
   "source": [
    "race_results[race_results.race_id == 273]"
   ]
  },
  {
   "cell_type": "markdown",
   "metadata": {},
   "source": [
    "I will work with a slice of this `race_results` dataFrame that only includes the team in their championship winning season. Let's make that slice now:"
   ]
  },
  {
   "cell_type": "code",
   "execution_count": null,
   "metadata": {},
   "outputs": [],
   "source": [
    "winning_teams = pd.read_csv(\"../data/other/winning_teams_statsf1_v2.csv\")\n",
    "winning_teams.head(15)"
   ]
  },
  {
   "cell_type": "markdown",
   "metadata": {},
   "source": [
    "Now we combine this dataframe with the `race_results` one:"
   ]
  },
  {
   "cell_type": "code",
   "execution_count": null,
   "metadata": {},
   "outputs": [],
   "source": [
    "combine = pd.merge(race_results, winning_teams, how=\"left\", on=[\"year\", \"team\"], indicator=\"keep\")"
   ]
  },
  {
   "cell_type": "code",
   "execution_count": null,
   "metadata": {},
   "outputs": [],
   "source": [
    "combine[combine.race_id == 1]"
   ]
  },
  {
   "cell_type": "code",
   "execution_count": null,
   "metadata": {},
   "outputs": [],
   "source": [
    "results = combine[combine.keep == \"both\"]"
   ]
  },
  {
   "cell_type": "code",
   "execution_count": null,
   "metadata": {},
   "outputs": [],
   "source": [
    "results[results.year == 1982]"
   ]
  },
  {
   "cell_type": "markdown",
   "metadata": {},
   "source": [
    "And those are all the result records for Williams in 1982.\n",
    "\n",
    "We can drop the `keep` column, save a copy of this data, and start doing the three analyses."
   ]
  },
  {
   "cell_type": "code",
   "execution_count": null,
   "metadata": {},
   "outputs": [],
   "source": [
    "results = results.drop(columns=[\"keep\"])"
   ]
  },
  {
   "cell_type": "code",
   "execution_count": null,
   "metadata": {},
   "outputs": [],
   "source": [
    "results.to_csv(\"../data/other/race_results_champions.csv\", index=False)"
   ]
  },
  {
   "cell_type": "markdown",
   "metadata": {},
   "source": [
    "---\n",
    "\n",
    "## Method 01: Wins\n",
    "\n",
    "Let's compare championship seasons by how many wins each team got in their season.\n",
    "\n",
    "We can look for wins by doing one of two things:\n",
    "\n",
    "* pick all rows where `p_final == 1`\n",
    "* pick all rows where `position == \"1\"`\n",
    "\n",
    "In terms of wins, there were three races where two drivers shared first: 1951 French GP (Alfa Romeo), 1956 Argentine GP (Ferrari), and 1957 British GP (Vanwall).\n",
    "\n",
    "For this analysis I care more that the constructor/team finished first than I do about it being a shared drive. By selecting rows using the position column, I also don't have to worry about shared drives.\n"
   ]
  },
  {
   "cell_type": "code",
   "execution_count": null,
   "metadata": {},
   "outputs": [],
   "source": [
    "wins = results[results.position == \"1\"]"
   ]
  },
  {
   "cell_type": "code",
   "execution_count": null,
   "metadata": {},
   "outputs": [],
   "source": [
    "wins.head(12)"
   ]
  },
  {
   "cell_type": "code",
   "execution_count": null,
   "metadata": {},
   "outputs": [],
   "source": [
    "wins[wins.year== 1982]"
   ]
  },
  {
   "cell_type": "markdown",
   "metadata": {},
   "source": [
    "Now that we've verified the wins are correct, let's do the counting:"
   ]
  },
  {
   "cell_type": "code",
   "execution_count": null,
   "metadata": {},
   "outputs": [],
   "source": [
    "win_count = wins.groupby([\"year\", \"team\"]).p_final.count().rename(\"wins\")"
   ]
  },
  {
   "cell_type": "code",
   "execution_count": null,
   "metadata": {},
   "outputs": [],
   "source": [
    "win_count.sort_values(ascending=False).head(10)"
   ]
  },
  {
   "cell_type": "markdown",
   "metadata": {},
   "source": [
    "Let's take it from a series to a dataframe:"
   ]
  },
  {
   "cell_type": "code",
   "execution_count": null,
   "metadata": {},
   "outputs": [],
   "source": [
    "win_count = win_count.to_frame().reset_index()"
   ]
  },
  {
   "cell_type": "code",
   "execution_count": null,
   "metadata": {},
   "outputs": [],
   "source": [
    "win_count.sort_values(by=\"wins\",ascending=False).head(10)"
   ]
  },
  {
   "cell_type": "markdown",
   "metadata": {},
   "source": [
    "To better compare things we should also normalize by the number of races in each season. We'll compute the percentage of races won in each season."
   ]
  },
  {
   "cell_type": "code",
   "execution_count": null,
   "metadata": {},
   "outputs": [],
   "source": [
    "def find_num_races(row):\n",
    "    season = results[results.year == int(row.year)]\n",
    "    return season[\"round\"].max()\n",
    "\n",
    "def get_win_percentage(row):\n",
    "    w = float(row.wins)\n",
    "    total = float(row.races)\n",
    "    return (w/total)*100"
   ]
  },
  {
   "cell_type": "code",
   "execution_count": null,
   "metadata": {},
   "outputs": [],
   "source": [
    "win_analysis = win_count.copy()"
   ]
  },
  {
   "cell_type": "code",
   "execution_count": null,
   "metadata": {},
   "outputs": [],
   "source": [
    "win_analysis[\"races\"] = win_count.apply(find_num_races, axis=1)"
   ]
  },
  {
   "cell_type": "code",
   "execution_count": null,
   "metadata": {},
   "outputs": [],
   "source": [
    "win_analysis.sort_values(by=\"wins\",ascending=False).head(10)"
   ]
  },
  {
   "cell_type": "code",
   "execution_count": null,
   "metadata": {},
   "outputs": [],
   "source": [
    "win_analysis[\"win_percentage\"] = win_analysis.apply(get_win_percentage, axis=1)"
   ]
  },
  {
   "cell_type": "code",
   "execution_count": null,
   "metadata": {},
   "outputs": [],
   "source": [
    "win_analysis.sort_values(by=\"wins\", ascending=False).head(10)"
   ]
  },
  {
   "cell_type": "markdown",
   "metadata": {},
   "source": [
    "And looking at the percentages:"
   ]
  },
  {
   "cell_type": "code",
   "execution_count": null,
   "metadata": {},
   "outputs": [],
   "source": [
    "win_analysis.sort_values(by=\"win_percentage\", ascending=False).head(10)"
   ]
  },
  {
   "cell_type": "markdown",
   "metadata": {},
   "source": [
    "McLaren's 1988 run is ~4% better than Mercedes's 2016 run.\n",
    "\n",
    "Let's save this analysis for plotting purposes in the piece."
   ]
  },
  {
   "cell_type": "code",
   "execution_count": null,
   "metadata": {},
   "outputs": [],
   "source": [
    "win_analysis.to_csv(\"../data/output/win_analysis.csv\", index=False)"
   ]
  },
  {
   "cell_type": "markdown",
   "metadata": {},
   "source": [
    "---\n",
    "\n",
    "## Method 02: Podiums\n",
    "\n",
    "Looking at the wins is a good start, but there are a lot of factors about the team's performance over a season that it leaves out.\n",
    "\n",
    "* It only shows a very narrow slice of the team's drivers's performance. If we only know that one of the drivers won, we have no idea how the other driver did.\n",
    "* It offers a limited amount of comparison. Winning is a binary variable — you win or you don't. When looking at the history of the sport, things are greyer. For example, Keke Rosberg won the driver's cup in 1982, but he only had one victory that season. Looking only at the number of wins doesn't provide any context about how this happened.\n",
    "\n",
    "We can dig a little deeper and look at podiums. The podium refers to the drivers who finished first, second, and third in any given race. A team that consistenly has both drivers on the podium over a season is doing amazing. (ex: Mercedes's dominance is better understood when you see Bottas and Hamilton on podium for almost every race of 2019 so far.)"
   ]
  },
  {
   "cell_type": "code",
   "execution_count": null,
   "metadata": {},
   "outputs": [],
   "source": [
    "podiums = results[results.position.isin([\"1\",\"2\", \"3\", 1, 2, 3])]"
   ]
  },
  {
   "cell_type": "code",
   "execution_count": null,
   "metadata": {},
   "outputs": [],
   "source": [
    "podiums.head(21)"
   ]
  },
  {
   "cell_type": "markdown",
   "metadata": {},
   "source": [
    "By again using the `position` column we can deal with the shared drives."
   ]
  },
  {
   "cell_type": "code",
   "execution_count": null,
   "metadata": {},
   "outputs": [],
   "source": [
    "podium_count = podiums.groupby([\"year\", \"team\"]).p_final.count().rename(\"podium_spots_claimed\")"
   ]
  },
  {
   "cell_type": "code",
   "execution_count": null,
   "metadata": {},
   "outputs": [],
   "source": [
    "podium_count.sort_values(ascending=False).head(10)"
   ]
  },
  {
   "cell_type": "code",
   "execution_count": null,
   "metadata": {},
   "outputs": [],
   "source": [
    "podium_count = podium_count.to_frame().reset_index()"
   ]
  },
  {
   "cell_type": "markdown",
   "metadata": {},
   "source": [
    "We'll want to normalize this as well, but a little different. We want to take into account that there are different number of races and different number of drivers in each race (usually 2 drivers per team per race, but they sometimes have a third subbing in for one of the two, or in the earlier years, they had more than 2 drivers.)\n",
    "\n",
    "To account for this, we'll look at each race and count the number of unique drivers who raced. We'll ignore the drivers whose `position` value is one of the following:\n",
    "\n",
    "* nq: not qualified\n",
    "* npq: not pre-qualified\n",
    "* exc: excluded\n",
    "* tf: parade lap\n",
    "\n",
    "We'll keep in the drivers whose `position` value was:\n",
    "\n",
    "* a number spot\n",
    "* ab: retired\n",
    "* nc: not classified\n",
    "* np: not started\n",
    "* f: withdrawal\n",
    "\n",
    "\n",
    "For each race, we'll compute the minimum between 3 and the number of drivers for the team in that race. The reason for picking the minimum between 3 and number of drivers is that the max number of podium spots for any race is 3 and if a team only brought two drivers, their best they can do is get two podiums."
   ]
  },
  {
   "cell_type": "code",
   "execution_count": null,
   "metadata": {},
   "outputs": [],
   "source": [
    "keep_out = [\"nq\", \"npq\", \"exc\", \"tf\"]\n",
    "race_entries = results[~results.position.isin(keep_out)]\n",
    "\n",
    "def podium_spots(row):\n",
    "    season = race_entries[race_entries.year == row.year]\n",
    "    team = season[season.team == row.team]\n",
    "    races = team[\"round\"].unique()\n",
    "    spots = 0\n",
    "    \n",
    "    for race in races:\n",
    "        driver_entries = team[team[\"round\"] == race].driver.nunique()\n",
    "        spots += min(3, driver_entries)\n",
    "    \n",
    "    return spots\n",
    "\n",
    "def podium_percentage(row):\n",
    "    p = float(row.podium_spots_claimed)\n",
    "    total = float(row.podium_spots_available)\n",
    "    return (p/total) * 100"
   ]
  },
  {
   "cell_type": "code",
   "execution_count": null,
   "metadata": {},
   "outputs": [],
   "source": [
    "podium_analysis = podium_count.copy()"
   ]
  },
  {
   "cell_type": "code",
   "execution_count": null,
   "metadata": {},
   "outputs": [],
   "source": [
    "podium_analysis.head(10)"
   ]
  },
  {
   "cell_type": "code",
   "execution_count": null,
   "metadata": {},
   "outputs": [],
   "source": [
    "podium_analysis[\"podium_spots_available\"] = podium_count.apply(podium_spots, axis=1)"
   ]
  },
  {
   "cell_type": "code",
   "execution_count": null,
   "metadata": {},
   "outputs": [],
   "source": [
    "podium_analysis.sort_values(by=\"podium_spots_claimed\",ascending=False).head(10)"
   ]
  },
  {
   "cell_type": "code",
   "execution_count": null,
   "metadata": {},
   "outputs": [],
   "source": [
    "podium_analysis[\"podium_percentage\"] = podium_analysis.apply(podium_percentage, axis=1)"
   ]
  },
  {
   "cell_type": "code",
   "execution_count": null,
   "metadata": {},
   "outputs": [],
   "source": [
    "podium_analysis.sort_values(by=\"podium_percentage\", ascending=False).head(10)"
   ]
  },
  {
   "cell_type": "markdown",
   "metadata": {},
   "source": [
    "While Mercedes's 2016 run has the most podiums (they also had most wins), their podium percentage is only the fifth highest. Of their 33 podium spots, 19 are first place finishes. From the other 14 podium spots we can see they didn't have both drivers on the podium for 7 of the season's 21 races.\n",
    "\n",
    "Their 2015 and 2014 percentages were way better in terms of podiums.\n",
    "\n",
    "Looking at McLaren's 1988 run, they also had a lower podium percentage. This could be related to their car performance or driver mistakes costing them podiums.\n",
    "\n",
    "Third place Ferrari is also down to fourth from third, but still higher than Mercedes 2016 or McLaren 1988 -- that F2002 was really robust.\n",
    "\n",
    "We can save this podium analysis now."
   ]
  },
  {
   "cell_type": "code",
   "execution_count": null,
   "metadata": {},
   "outputs": [],
   "source": [
    "podium_analysis.to_csv(\"../data/output/podium_analysis.csv\", index=False)"
   ]
  },
  {
   "cell_type": "markdown",
   "metadata": {},
   "source": [
    "---\n",
    "### Putting together podium and win analysis:\n",
    "\n",
    "We can combine the `win_analysis` and `podium_analysis` dataframes to make web loading slightly faster (1 request vs 2 requests, no duplicate columns requested)."
   ]
  },
  {
   "cell_type": "code",
   "execution_count": null,
   "metadata": {},
   "outputs": [],
   "source": [
    "analysis = pd.merge(win_analysis, podium_analysis, on=[\"year\",\"team\"])"
   ]
  },
  {
   "cell_type": "code",
   "execution_count": null,
   "metadata": {},
   "outputs": [],
   "source": [
    "analysis.head()"
   ]
  },
  {
   "cell_type": "markdown",
   "metadata": {},
   "source": [
    "Let's also add a column to be a single label for each run:"
   ]
  },
  {
   "cell_type": "code",
   "execution_count": null,
   "metadata": {},
   "outputs": [],
   "source": [
    "def team_run(row):\n",
    "    return \" \".join([row.team,str(row.year)])"
   ]
  },
  {
   "cell_type": "code",
   "execution_count": null,
   "metadata": {},
   "outputs": [],
   "source": [
    "analysis[\"run_id\"] = analysis.apply(team_run, axis=1)\n",
    "analysis.head()"
   ]
  },
  {
   "cell_type": "code",
   "execution_count": null,
   "metadata": {},
   "outputs": [],
   "source": [
    "analysis.to_csv(\"../data/output/win_and_podium_analysis.csv\", index=False)"
   ]
  },
  {
   "cell_type": "markdown",
   "metadata": {},
   "source": [
    "---\n",
    "\n",
    "## Method 3: Race Averages and Consistency\n",
    "\n",
    "The best podium finish a team can have is to have one of their drivers on first, and the other on second — a one-two finish. We can see who had the highest number of one-two finishes each season, but I think it's more interesting to see who overall got the closest to having a perfect season.\n",
    "\n",
    "To figure this out, I'll introduce the idea of a race average: for each race I'll average all of the team's finishing positions. the lower the average, the better the team performed in that race. If there are two drivers in a team, then the best average is a one-two finish which is a race average of 1.5.\n",
    "\n",
    "First let's try to see how many drivers each team had for each race."
   ]
  },
  {
   "cell_type": "code",
   "execution_count": null,
   "metadata": {},
   "outputs": [],
   "source": [
    "keep_out = [\"nq\", \"npq\", \"exc\", \"tf\"]\n",
    "race_entries = results[~results.position.isin(keep_out)]"
   ]
  },
  {
   "cell_type": "code",
   "execution_count": null,
   "metadata": {},
   "outputs": [],
   "source": [
    "grouped= race_entries.groupby([\"year\", \"team\", \"round\"])"
   ]
  },
  {
   "cell_type": "code",
   "execution_count": null,
   "metadata": {},
   "outputs": [],
   "source": [
    "grouped.driver.nunique().head(13)"
   ]
  },
  {
   "cell_type": "markdown",
   "metadata": {},
   "source": [
    "This is a good starting point. I can go race by race and get the averages doing the same thing (with say `.p_final.mean()` instead of `driver.nunique()`.\n",
    "\n",
    "But I also want to look at how shared drives are handled."
   ]
  },
  {
   "cell_type": "code",
   "execution_count": null,
   "metadata": {},
   "outputs": [],
   "source": [
    "grouped2 = race_entries.groupby([\"year\", \"team\", \"round\", \"driver\"])"
   ]
  },
  {
   "cell_type": "code",
   "execution_count": null,
   "metadata": {},
   "outputs": [],
   "source": [
    "grouped2.p_final.count()"
   ]
  },
  {
   "cell_type": "markdown",
   "metadata": {},
   "source": [
    "In the 1950 Italian GP, Juan Manuel Fangio has two records because of shared driving. When calculating race averages, we'll have to process those.\n",
    "\n",
    "Let's try to calculate the race average for Ferrari's 1952 run:"
   ]
  },
  {
   "cell_type": "code",
   "execution_count": null,
   "metadata": {},
   "outputs": [],
   "source": [
    "f1_1952 = race_entries[race_entries.year == 1952]\n",
    "grouped = f1_1952.groupby([\"year\", \"team\", \"round\", \"driver\"])"
   ]
  },
  {
   "cell_type": "code",
   "execution_count": null,
   "metadata": {},
   "outputs": [],
   "source": [
    "grouped = grouped.p_final.mean().rename(\"p_average\")\n",
    "grouped"
   ]
  },
  {
   "cell_type": "code",
   "execution_count": null,
   "metadata": {},
   "outputs": [],
   "source": [
    "g_drivers = grouped.to_frame().reset_index()"
   ]
  },
  {
   "cell_type": "code",
   "execution_count": null,
   "metadata": {},
   "outputs": [],
   "source": [
    "g_rounds = g_drivers.groupby([\"year\",\"team\", \"round\"]).p_average.mean()\n",
    "g_rounds"
   ]
  },
  {
   "cell_type": "code",
   "execution_count": null,
   "metadata": {},
   "outputs": [],
   "source": [
    "g_rounds = g_rounds.to_frame().reset_index()"
   ]
  },
  {
   "cell_type": "code",
   "execution_count": null,
   "metadata": {},
   "outputs": [],
   "source": [
    "g_team = g_rounds.groupby([\"year\",\"team\"]).p_average.mean()\n",
    "g_team"
   ]
  },
  {
   "cell_type": "markdown",
   "metadata": {},
   "source": [
    "What we just computed is the average finishing position for Ferrari in 1952. \n",
    "\n",
    "We can generalize this process for every team and every season:\n",
    "\n",
    "1. group results by `[\"year\", \"team\", \"round\", \"driver\"]`.  \n",
    "    1. Find the average `p_final` for each driver of each team at each round of the season.\n",
    "    1. Rename computed average to `p_average`\n",
    "    1. turn the resulting series into a dataframe.\n",
    "1. group dataframe from previous step by `[\"year\", \"team\", \"round\"]`\n",
    "    1. Find the average `p_average` for each team at each round of the season.\n",
    "    1. turn the resulting series into a dataframe.\n",
    "1. group dataframe from previous step by `[\"year\", \"team\"]`\n",
    "    1. Find the average `p_average` for each team of each year.\n",
    "    1. turn the resulting series into a dataframe.\n",
    "1. Optional: group dataframe from previous step by `[\"year\"]`\n",
    "    1. Find the average `p_average` for each year of F1.\n",
    "    1. turn resulting series into a dataframe.\n",
    "\n",
    "Let's apply this to the `results` dataframe so we can compare the championship runs:"
   ]
  },
  {
   "cell_type": "code",
   "execution_count": null,
   "metadata": {},
   "outputs": [],
   "source": [
    "keep_out = [\"nq\", \"npq\", \"exc\", \"tf\"]\n",
    "race_entries = results[~results.position.isin(keep_out)]"
   ]
  },
  {
   "cell_type": "code",
   "execution_count": null,
   "metadata": {},
   "outputs": [],
   "source": [
    "g_drivers = race_entries.groupby([\"year\", \"team\", \"round\", \"driver\"]).p_final.mean().rename(\"p_average\").to_frame().reset_index()"
   ]
  },
  {
   "cell_type": "code",
   "execution_count": null,
   "metadata": {},
   "outputs": [],
   "source": [
    "g_rounds = g_drivers.groupby([\"year\", \"team\", \"round\"]).p_average.mean().to_frame().reset_index()"
   ]
  },
  {
   "cell_type": "code",
   "execution_count": null,
   "metadata": {},
   "outputs": [],
   "source": [
    "g_rounds.head(20)"
   ]
  },
  {
   "cell_type": "code",
   "execution_count": null,
   "metadata": {},
   "outputs": [],
   "source": [
    "g_team = g_rounds.groupby([\"year\", \"team\"]).p_average.mean().to_frame().reset_index()"
   ]
  },
  {
   "cell_type": "markdown",
   "metadata": {},
   "source": [
    "Now we can sort `g_team` to see who had the best racing average:"
   ]
  },
  {
   "cell_type": "code",
   "execution_count": null,
   "metadata": {},
   "outputs": [],
   "source": [
    "g_team.sort_values(by=\"p_average\", ascending=True).head(10)"
   ]
  },
  {
   "cell_type": "markdown",
   "metadata": {},
   "source": [
    "I think this is good enough to compare, but I want to check what the perfect performance would have been for each season. We can do this similarly to how we counted available podium spots:\n",
    "\n",
    "1. Get number of drivers in each race, say *n*.\n",
    "1. Find the average of the first n spots. Append to a list\n",
    "1. Return the average of that list of *n*'s."
   ]
  },
  {
   "cell_type": "code",
   "execution_count": null,
   "metadata": {},
   "outputs": [],
   "source": [
    "race_average_analysis = g_team.copy()"
   ]
  },
  {
   "cell_type": "code",
   "execution_count": null,
   "metadata": {},
   "outputs": [],
   "source": [
    "def expected_perfect(row):\n",
    "    season = race_entries[race_entries.year == row.year]\n",
    "    team = season[season.team == row.team]\n",
    "    races = team[\"round\"].unique()\n",
    "    num_races = team[\"round\"].max()\n",
    "    my_list = []\n",
    "    \n",
    "    for race in races:\n",
    "        drivers = team[team[\"round\"] == race].driver.nunique()\n",
    "        race_finishes = []\n",
    "        for i in range(1, drivers + 1):\n",
    "            race_finishes.append(i)\n",
    "\n",
    "        my_list.append(np.mean(race_finishes))\n",
    "    \n",
    "    best_finish = np.sum(my_list)\n",
    "    \n",
    "    perfect = float(best_finish)/float(num_races)\n",
    "    \n",
    "    return perfect"
   ]
  },
  {
   "cell_type": "code",
   "execution_count": null,
   "metadata": {},
   "outputs": [],
   "source": [
    "race_average_analysis[\"perfect\"] = race_average_analysis.apply(expected_perfect, axis = 1)"
   ]
  },
  {
   "cell_type": "code",
   "execution_count": null,
   "metadata": {},
   "outputs": [],
   "source": [
    "race_average_analysis.head(10)"
   ]
  },
  {
   "cell_type": "code",
   "execution_count": null,
   "metadata": {},
   "outputs": [],
   "source": [
    "race_average_analysis[\"delta\"] = race_average_analysis[\"p_average\"] - race_average_analysis[\"perfect\"]"
   ]
  },
  {
   "cell_type": "code",
   "execution_count": null,
   "metadata": {},
   "outputs": [],
   "source": [
    "race_average_analysis.sort_values(by=\"delta\").head(10)"
   ]
  },
  {
   "cell_type": "markdown",
   "metadata": {},
   "source": [
    "To this, let's add variance, and standard deviation for plotting error:"
   ]
  },
  {
   "cell_type": "code",
   "execution_count": null,
   "metadata": {},
   "outputs": [],
   "source": [
    "def compute_std(row):\n",
    "    season = g_rounds[g_rounds.year == row.year]\n",
    "    run = season[season.team == row.team]\n",
    "    return run.p_average.std()\n",
    "\n",
    "def compute_var(row):\n",
    "    season = g_rounds[g_rounds.year == row.year]\n",
    "    run = season[season.team == row.team]\n",
    "    return run.p_average.var()"
   ]
  },
  {
   "cell_type": "code",
   "execution_count": null,
   "metadata": {},
   "outputs": [],
   "source": [
    "race_average_analysis[\"std\"] = race_average_analysis.apply(compute_std, axis=1)\n",
    "race_average_analysis[\"var\"] = race_average_analysis.apply(compute_var, axis=1)"
   ]
  },
  {
   "cell_type": "code",
   "execution_count": null,
   "metadata": {},
   "outputs": [],
   "source": [
    "race_average_analysis.sort_values(by=\"p_average\").head(10)"
   ]
  },
  {
   "cell_type": "markdown",
   "metadata": {},
   "source": [
    "We can now save this to a csv and move on to doing the same but for all the teams in every season."
   ]
  },
  {
   "cell_type": "code",
   "execution_count": null,
   "metadata": {},
   "outputs": [],
   "source": [
    "race_average_analysis.to_csv(\"../data/output/race_average_analysis.csv\", index=False)"
   ]
  },
  {
   "cell_type": "markdown",
   "metadata": {},
   "source": [
    "Like we did earlier, we can add columns from this analysis into an overall analysis dataFrame:"
   ]
  },
  {
   "cell_type": "code",
   "execution_count": null,
   "metadata": {},
   "outputs": [],
   "source": [
    "overall_analysis = pd.merge(analysis, race_average_analysis, on=[\"year\",\"team\"])\n",
    "overall_analysis.head()"
   ]
  },
  {
   "cell_type": "code",
   "execution_count": null,
   "metadata": {},
   "outputs": [],
   "source": [
    "overall_analysis.to_csv(\"../data/output/overall_analysis.csv\", index=False)"
   ]
  },
  {
   "cell_type": "markdown",
   "metadata": {},
   "source": [
    "---\n",
    "\n",
    "### Do race average analysis for all races"
   ]
  },
  {
   "cell_type": "code",
   "execution_count": null,
   "metadata": {},
   "outputs": [],
   "source": [
    "keep_out = [\"nq\", \"npq\", \"exc\", \"tf\"]\n",
    "entries = race_results[~race_results.position.isin(keep_out)]"
   ]
  },
  {
   "cell_type": "code",
   "execution_count": null,
   "metadata": {},
   "outputs": [],
   "source": [
    "g_d = entries.groupby([\"year\", \"team\", \"round\", \"driver\"]).p_final.mean().rename(\"p_average\").to_frame().reset_index()"
   ]
  },
  {
   "cell_type": "code",
   "execution_count": null,
   "metadata": {},
   "outputs": [],
   "source": [
    "g_d.to_csv(\"../data/output/race_averages_drivers.csv\",index=False)"
   ]
  },
  {
   "cell_type": "code",
   "execution_count": null,
   "metadata": {},
   "outputs": [],
   "source": [
    "g_r = g_d.groupby([\"year\", \"team\", \"round\"]).p_average.mean().to_frame().reset_index()"
   ]
  },
  {
   "cell_type": "code",
   "execution_count": null,
   "metadata": {},
   "outputs": [],
   "source": [
    "g_r.to_csv(\"../data/output/race_averages_rounds.csv\",index=False)"
   ]
  },
  {
   "cell_type": "code",
   "execution_count": null,
   "metadata": {},
   "outputs": [],
   "source": [
    "g_t = g_r.groupby([\"year\", \"team\"]).p_average.mean().to_frame().reset_index()"
   ]
  },
  {
   "cell_type": "code",
   "execution_count": null,
   "metadata": {},
   "outputs": [],
   "source": [
    "g_t.to_csv(\"../data/output/race_averages_team.csv\",index=False)"
   ]
  },
  {
   "cell_type": "code",
   "execution_count": null,
   "metadata": {},
   "outputs": [],
   "source": [
    "g_year = g_t.groupby([\"year\"]).p_average.mean().to_frame().reset_index()"
   ]
  },
  {
   "cell_type": "code",
   "execution_count": null,
   "metadata": {},
   "outputs": [],
   "source": [
    "g_year.to_csv(\"../data/output/race_averages_year.csv\",index=False)"
   ]
  }
 ],
 "metadata": {
  "kernelspec": {
   "display_name": "Python 3",
   "language": "python",
   "name": "python3"
  },
  "language_info": {
   "codemirror_mode": {
    "name": "ipython",
    "version": 3
   },
   "file_extension": ".py",
   "mimetype": "text/x-python",
   "name": "python",
   "nbconvert_exporter": "python",
   "pygments_lexer": "ipython3",
   "version": "3.7.3"
  }
 },
 "nbformat": 4,
 "nbformat_minor": 2
}
