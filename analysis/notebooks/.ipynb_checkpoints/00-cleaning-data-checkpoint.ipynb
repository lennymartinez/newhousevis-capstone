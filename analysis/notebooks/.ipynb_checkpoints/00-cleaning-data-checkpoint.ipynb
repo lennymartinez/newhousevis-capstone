{
 "cells": [
  {
   "cell_type": "markdown",
   "metadata": {},
   "source": [
    "# Cleaning f1db data\n",
    "\n",
    "This notebook is to clean the series of csv tables coming from the [Ergast Developer API](https://ergast.com/mrd/db/). I'm downloading the raw csv tables and processing them here.\n",
    "\n",
    "Some things to note about the data:\n",
    "\n",
    "* The tables are not chronologically organized in most cases. Races seem to start around Hamilton's debut with McLaren. Part of my initial cleaning and preparation is to get this re-organized to be chonrological.\n",
    "* In the standings table, a new entry is not added after a race if the driver does not change standings.\n",
    "* When a cell is `\\N` it means the cell is null, or the value wasn't recorded. This largely applies to things for which we had no data in the beginning.\n",
    "* Looking at the original `raceId`, something happened because Azerbaijan GP 2019 was the 1001st race but their id for the same race was 1013. I assume the counting was pushed ahead somewhere in the middle, but things are still okay.\n",
    "* The `drivers` table is actually named `driver.csv`.\n",
    "\n",
    "\n",
    "**I last downloaded this data on 19-06-10.**"
   ]
  },
  {
   "cell_type": "code",
   "execution_count": 1,
   "metadata": {},
   "outputs": [],
   "source": [
    "import pandas as pd\n",
    "import numpy as np"
   ]
  },
  {
   "cell_type": "markdown",
   "metadata": {},
   "source": [
    "First thing we'll do is add headers to each table based on this [schema text file](http://ergast.com/schemas/f1db_schema.txt). I will also couple removing the `\\N` characters in this step."
   ]
  },
  {
   "cell_type": "code",
   "execution_count": 18,
   "metadata": {},
   "outputs": [
    {
     "name": "stdout",
     "output_type": "stream",
     "text": [
      "circuits --> done\n",
      "constructor_results --> done\n",
      "constructor_standings --> done\n",
      "constructors --> done\n",
      "driver_standings --> done\n",
      "driver --> done\n",
      "lap_times --> done\n",
      "pit_stops --> done\n",
      "qualifying --> done\n",
      "races --> done\n",
      "results --> done\n",
      "seasons --> done\n",
      "status --> done\n"
     ]
    }
   ],
   "source": [
    "baseurl = \"../data/f1db_csv/\"\n",
    "destination = \"../data/working/\"\n",
    "\n",
    "#names correspond to the csv files and not the table names given at the top of the schema text file\n",
    "tables = [\"circuits\", \"constructor_results\", \"constructor_standings\", \"constructors\", \"driver_standings\", \n",
    "          \"driver\", \"lap_times\", \"pit_stops\", \"qualifying\", \"races\", \"results\", \"seasons\", \"status\"]\n",
    "\n",
    "# all the headers are grouped by table and put into one big list\n",
    "headers = [[\"circuitId\", \"circuitRef\", \"name\", \"location\", \"country\",\"lat\", \"lng\", \"alt\", \"url\"], #circuits\n",
    "          [\"constructorResultsId\", \"raceId\", \"constructorId\", \"points\", \"status\"], #constructor_results\n",
    "          [\"constructorStandingsId\", \"constructorId\", \"points\", \"position\", \"positionText\", \"wins\"], #constructor_standings\n",
    "          [\"constructorId\", \"constructorRef\", \"name\", \"nationality\", \"url\"], #constructors\n",
    "          [\"driverStandingsId\", \"raceId\", \"driverId\", \"points\", \"position\", \"positionText\", \"wins\"], #driver_standings\n",
    "          [\"driverId\", \"driverRef\", \"number\", \"code\", \"forename\", \"surname\", \"dob\", \"nationality\", \"url\" ], #drivers\n",
    "          [\"raceId\", \"driverId\", \"lap\", \"position\", \"time\", \"milliseconds\"], #lap_times\n",
    "          [\"raceId\", \"driverId\", \"stop\", \"lap\", \"time\", \"duration\", \"milliseconds\"], #pit_stops\n",
    "          [\"qualifyId\", \"raceId\", \"driverId\", \"constructorId\", \"number\",\n",
    "           \"position\", \"q1\", \"q2\",\"q3\"], #qualifying\n",
    "          [\"raceId\", \"year\", \"round\", \"circuitId\", \"name\", \"date\", \"time\", \"url\"], #races\n",
    "          [\"resultId\", \"raceId\", \"driverId\", \"constructorId\", \"number\", \"grid\", \"position\",\n",
    "           \"positionText\", \"positionOrder\", \"points\", \"laps\", \"time\", \"milliseconds\",\n",
    "           \"fastestLap\", \"rank\", \"fastestLapTime\", \"fastestLapSpeed\", \"statusId\"], #results\n",
    "          [\"year\",\"url\"], #seasons\n",
    "          [\"statusId\", \"status\"] #status\n",
    "          ]\n",
    "\n",
    "for i in range(len(tables)):\n",
    "    #pick the right table name and the right header\n",
    "    table = tables[i]\n",
    "    header = headers[i]\n",
    "    \n",
    "    #import the csv file associated with the table and add in the header to it\n",
    "    df = pd.read_csv(baseurl+table+\".csv\",names=header)\n",
    "    #get rid of the null characters\n",
    "    df = df.replace(\"\\\\N\",\"\")\n",
    "    #export back to a csv in the working folder\n",
    "    df.to_csv(destination+table+\".csv\", index=False, mode=\"w+\")\n",
    "    \n",
    "    #status updates\n",
    "    print(table,\"done\", sep=\" --> \")"
   ]
  },
  {
   "cell_type": "markdown",
   "metadata": {},
   "source": [
    "I could try to figure out how to sort the drivers chronologically and the races as well as I had done before, but I don't think that's actually as important to my analysis.\n",
    "\n",
    "---\n",
    "\n",
    "If there is anything else I need to clean across the board, I will come back to this notebook."
   ]
  },
  {
   "cell_type": "code",
   "execution_count": null,
   "metadata": {},
   "outputs": [],
   "source": []
  }
 ],
 "metadata": {
  "kernelspec": {
   "display_name": "Python 3",
   "language": "python",
   "name": "python3"
  },
  "language_info": {
   "codemirror_mode": {
    "name": "ipython",
    "version": 3
   },
   "file_extension": ".py",
   "mimetype": "text/x-python",
   "name": "python",
   "nbconvert_exporter": "python",
   "pygments_lexer": "ipython3",
   "version": "3.7.3"
  }
 },
 "nbformat": 4,
 "nbformat_minor": 2
}
