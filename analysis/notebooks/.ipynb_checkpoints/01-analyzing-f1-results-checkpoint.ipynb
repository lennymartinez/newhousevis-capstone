{
 "cells": [
  {
   "cell_type": "markdown",
   "metadata": {},
   "source": [
    "# Analyzing F1 results\n",
    "\n",
    "The question I'm trying to answer with my visualization project is: **\"Who had the best championship season?\"** \n",
    "To narrow things, I'm looking at constructors in the year they won a championship. Once I get an idea of that, I'll look a number of years before and after they won the championship to gauge their championship performance.\n",
    "\n",
    "To answer this, I'm looking at:\n",
    "\n",
    "1. Wins in the season\n",
    "1. Overall Podiums in the season\n",
    "1. One-Two finishes\n",
    "\n",
    "Of the three, the One-Two finishes give the best idea of performance because they take into account the performance of the cars, the drivers, and the team at a race.\n",
    "\n",
    "---"
   ]
  },
  {
   "cell_type": "code",
   "execution_count": 1,
   "metadata": {},
   "outputs": [],
   "source": [
    "import pandas as pd\n",
    "import numpy as np"
   ]
  },
  {
   "cell_type": "markdown",
   "metadata": {},
   "source": [
    "## IDEA 1: Wins in the season\n",
    "\n",
    "I think this is the roughest way to look at the results. In this one I'm looking at the cases where `positionOrder == 1`."
   ]
  },
  {
   "cell_type": "code",
   "execution_count": 2,
   "metadata": {},
   "outputs": [],
   "source": [
    "results = pd.read_csv(\"../data/working/master_results.csv\")"
   ]
  },
  {
   "cell_type": "code",
   "execution_count": 3,
   "metadata": {},
   "outputs": [
    {
     "data": {
      "text/html": [
       "<div>\n",
       "<style scoped>\n",
       "    .dataframe tbody tr th:only-of-type {\n",
       "        vertical-align: middle;\n",
       "    }\n",
       "\n",
       "    .dataframe tbody tr th {\n",
       "        vertical-align: top;\n",
       "    }\n",
       "\n",
       "    .dataframe thead th {\n",
       "        text-align: right;\n",
       "    }\n",
       "</style>\n",
       "<table border=\"1\" class=\"dataframe\">\n",
       "  <thead>\n",
       "    <tr style=\"text-align: right;\">\n",
       "      <th></th>\n",
       "      <th>raceId</th>\n",
       "      <th>year</th>\n",
       "      <th>round</th>\n",
       "      <th>prixName</th>\n",
       "      <th>constructor</th>\n",
       "      <th>constructorRef</th>\n",
       "      <th>forename</th>\n",
       "      <th>surname</th>\n",
       "      <th>grid</th>\n",
       "      <th>position</th>\n",
       "      <th>positionText</th>\n",
       "      <th>positionOrder</th>\n",
       "      <th>points</th>\n",
       "      <th>status</th>\n",
       "    </tr>\n",
       "  </thead>\n",
       "  <tbody>\n",
       "    <tr>\n",
       "      <th>0</th>\n",
       "      <td>833</td>\n",
       "      <td>1950</td>\n",
       "      <td>1</td>\n",
       "      <td>British Grand Prix</td>\n",
       "      <td>Alfa Romeo</td>\n",
       "      <td>alfa</td>\n",
       "      <td>Nino</td>\n",
       "      <td>Farina</td>\n",
       "      <td>1</td>\n",
       "      <td>1.0</td>\n",
       "      <td>1</td>\n",
       "      <td>1</td>\n",
       "      <td>9.0</td>\n",
       "      <td>Finished</td>\n",
       "    </tr>\n",
       "    <tr>\n",
       "      <th>1</th>\n",
       "      <td>833</td>\n",
       "      <td>1950</td>\n",
       "      <td>1</td>\n",
       "      <td>British Grand Prix</td>\n",
       "      <td>Alfa Romeo</td>\n",
       "      <td>alfa</td>\n",
       "      <td>Luigi</td>\n",
       "      <td>Fagioli</td>\n",
       "      <td>2</td>\n",
       "      <td>2.0</td>\n",
       "      <td>2</td>\n",
       "      <td>2</td>\n",
       "      <td>6.0</td>\n",
       "      <td>Finished</td>\n",
       "    </tr>\n",
       "    <tr>\n",
       "      <th>2</th>\n",
       "      <td>833</td>\n",
       "      <td>1950</td>\n",
       "      <td>1</td>\n",
       "      <td>British Grand Prix</td>\n",
       "      <td>Alfa Romeo</td>\n",
       "      <td>alfa</td>\n",
       "      <td>Reg</td>\n",
       "      <td>Parnell</td>\n",
       "      <td>4</td>\n",
       "      <td>3.0</td>\n",
       "      <td>3</td>\n",
       "      <td>3</td>\n",
       "      <td>4.0</td>\n",
       "      <td>Finished</td>\n",
       "    </tr>\n",
       "    <tr>\n",
       "      <th>3</th>\n",
       "      <td>833</td>\n",
       "      <td>1950</td>\n",
       "      <td>1</td>\n",
       "      <td>British Grand Prix</td>\n",
       "      <td>Talbot-Lago</td>\n",
       "      <td>lago</td>\n",
       "      <td>Yves</td>\n",
       "      <td>Cabantous</td>\n",
       "      <td>6</td>\n",
       "      <td>4.0</td>\n",
       "      <td>4</td>\n",
       "      <td>4</td>\n",
       "      <td>3.0</td>\n",
       "      <td>+2 Laps</td>\n",
       "    </tr>\n",
       "    <tr>\n",
       "      <th>4</th>\n",
       "      <td>833</td>\n",
       "      <td>1950</td>\n",
       "      <td>1</td>\n",
       "      <td>British Grand Prix</td>\n",
       "      <td>Talbot-Lago</td>\n",
       "      <td>lago</td>\n",
       "      <td>Louis</td>\n",
       "      <td>Rosier</td>\n",
       "      <td>9</td>\n",
       "      <td>5.0</td>\n",
       "      <td>5</td>\n",
       "      <td>5</td>\n",
       "      <td>2.0</td>\n",
       "      <td>+2 Laps</td>\n",
       "    </tr>\n",
       "  </tbody>\n",
       "</table>\n",
       "</div>"
      ],
      "text/plain": [
       "   raceId  year  round            prixName  constructor constructorRef  \\\n",
       "0     833  1950      1  British Grand Prix   Alfa Romeo           alfa   \n",
       "1     833  1950      1  British Grand Prix   Alfa Romeo           alfa   \n",
       "2     833  1950      1  British Grand Prix   Alfa Romeo           alfa   \n",
       "3     833  1950      1  British Grand Prix  Talbot-Lago           lago   \n",
       "4     833  1950      1  British Grand Prix  Talbot-Lago           lago   \n",
       "\n",
       "  forename    surname  grid  position positionText  positionOrder  points  \\\n",
       "0     Nino     Farina     1       1.0            1              1     9.0   \n",
       "1    Luigi    Fagioli     2       2.0            2              2     6.0   \n",
       "2      Reg    Parnell     4       3.0            3              3     4.0   \n",
       "3     Yves  Cabantous     6       4.0            4              4     3.0   \n",
       "4    Louis     Rosier     9       5.0            5              5     2.0   \n",
       "\n",
       "     status  \n",
       "0  Finished  \n",
       "1  Finished  \n",
       "2  Finished  \n",
       "3   +2 Laps  \n",
       "4   +2 Laps  "
      ]
     },
     "execution_count": 3,
     "metadata": {},
     "output_type": "execute_result"
    }
   ],
   "source": [
    "results.head()"
   ]
  },
  {
   "cell_type": "markdown",
   "metadata": {},
   "source": [
    "First let's check that we have the right number of races."
   ]
  },
  {
   "cell_type": "code",
   "execution_count": 4,
   "metadata": {},
   "outputs": [],
   "source": [
    "races1 = results.groupby([\"year\",\"round\"])"
   ]
  },
  {
   "cell_type": "code",
   "execution_count": 5,
   "metadata": {},
   "outputs": [
    {
     "data": {
      "text/plain": [
       "1004"
      ]
     },
     "execution_count": 5,
     "metadata": {},
     "output_type": "execute_result"
    }
   ],
   "source": [
    "len(races1)"
   ]
  },
  {
   "cell_type": "code",
   "execution_count": 6,
   "metadata": {},
   "outputs": [],
   "source": [
    "races2 = results.groupby(\"raceId\")"
   ]
  },
  {
   "cell_type": "code",
   "execution_count": 7,
   "metadata": {},
   "outputs": [
    {
     "data": {
      "text/plain": [
       "1004"
      ]
     },
     "execution_count": 7,
     "metadata": {},
     "output_type": "execute_result"
    }
   ],
   "source": [
    "len(races2)"
   ]
  },
  {
   "cell_type": "markdown",
   "metadata": {},
   "source": [
    "Counting them two different ways we do end up with the total number of races that have happened in F1."
   ]
  },
  {
   "cell_type": "code",
   "execution_count": 8,
   "metadata": {},
   "outputs": [],
   "source": [
    "wins = results[(results.positionOrder == 1)]"
   ]
  },
  {
   "cell_type": "code",
   "execution_count": 9,
   "metadata": {},
   "outputs": [
    {
     "data": {
      "text/html": [
       "<div>\n",
       "<style scoped>\n",
       "    .dataframe tbody tr th:only-of-type {\n",
       "        vertical-align: middle;\n",
       "    }\n",
       "\n",
       "    .dataframe tbody tr th {\n",
       "        vertical-align: top;\n",
       "    }\n",
       "\n",
       "    .dataframe thead th {\n",
       "        text-align: right;\n",
       "    }\n",
       "</style>\n",
       "<table border=\"1\" class=\"dataframe\">\n",
       "  <thead>\n",
       "    <tr style=\"text-align: right;\">\n",
       "      <th></th>\n",
       "      <th>raceId</th>\n",
       "      <th>year</th>\n",
       "      <th>round</th>\n",
       "      <th>prixName</th>\n",
       "      <th>constructor</th>\n",
       "      <th>constructorRef</th>\n",
       "      <th>forename</th>\n",
       "      <th>surname</th>\n",
       "      <th>grid</th>\n",
       "      <th>position</th>\n",
       "      <th>positionText</th>\n",
       "      <th>positionOrder</th>\n",
       "      <th>points</th>\n",
       "      <th>status</th>\n",
       "    </tr>\n",
       "  </thead>\n",
       "  <tbody>\n",
       "    <tr>\n",
       "      <th>0</th>\n",
       "      <td>833</td>\n",
       "      <td>1950</td>\n",
       "      <td>1</td>\n",
       "      <td>British Grand Prix</td>\n",
       "      <td>Alfa Romeo</td>\n",
       "      <td>alfa</td>\n",
       "      <td>Nino</td>\n",
       "      <td>Farina</td>\n",
       "      <td>1</td>\n",
       "      <td>1.0</td>\n",
       "      <td>1</td>\n",
       "      <td>1</td>\n",
       "      <td>9.0</td>\n",
       "      <td>Finished</td>\n",
       "    </tr>\n",
       "    <tr>\n",
       "      <th>23</th>\n",
       "      <td>834</td>\n",
       "      <td>1950</td>\n",
       "      <td>2</td>\n",
       "      <td>Monaco Grand Prix</td>\n",
       "      <td>Alfa Romeo</td>\n",
       "      <td>alfa</td>\n",
       "      <td>Juan</td>\n",
       "      <td>Fangio</td>\n",
       "      <td>1</td>\n",
       "      <td>1.0</td>\n",
       "      <td>1</td>\n",
       "      <td>1</td>\n",
       "      <td>9.0</td>\n",
       "      <td>Finished</td>\n",
       "    </tr>\n",
       "    <tr>\n",
       "      <th>44</th>\n",
       "      <td>835</td>\n",
       "      <td>1950</td>\n",
       "      <td>3</td>\n",
       "      <td>Indianapolis 500</td>\n",
       "      <td>Kurtis Kraft</td>\n",
       "      <td>kurtis_kraft</td>\n",
       "      <td>Johnnie</td>\n",
       "      <td>Parsons</td>\n",
       "      <td>5</td>\n",
       "      <td>1.0</td>\n",
       "      <td>1</td>\n",
       "      <td>1</td>\n",
       "      <td>9.0</td>\n",
       "      <td>Finished</td>\n",
       "    </tr>\n",
       "    <tr>\n",
       "      <th>79</th>\n",
       "      <td>836</td>\n",
       "      <td>1950</td>\n",
       "      <td>4</td>\n",
       "      <td>Swiss Grand Prix</td>\n",
       "      <td>Alfa Romeo</td>\n",
       "      <td>alfa</td>\n",
       "      <td>Nino</td>\n",
       "      <td>Farina</td>\n",
       "      <td>2</td>\n",
       "      <td>1.0</td>\n",
       "      <td>1</td>\n",
       "      <td>1</td>\n",
       "      <td>9.0</td>\n",
       "      <td>Finished</td>\n",
       "    </tr>\n",
       "    <tr>\n",
       "      <th>97</th>\n",
       "      <td>837</td>\n",
       "      <td>1950</td>\n",
       "      <td>5</td>\n",
       "      <td>Belgian Grand Prix</td>\n",
       "      <td>Alfa Romeo</td>\n",
       "      <td>alfa</td>\n",
       "      <td>Juan</td>\n",
       "      <td>Fangio</td>\n",
       "      <td>2</td>\n",
       "      <td>1.0</td>\n",
       "      <td>1</td>\n",
       "      <td>1</td>\n",
       "      <td>8.0</td>\n",
       "      <td>Finished</td>\n",
       "    </tr>\n",
       "  </tbody>\n",
       "</table>\n",
       "</div>"
      ],
      "text/plain": [
       "    raceId  year  round            prixName   constructor constructorRef  \\\n",
       "0      833  1950      1  British Grand Prix    Alfa Romeo           alfa   \n",
       "23     834  1950      2   Monaco Grand Prix    Alfa Romeo           alfa   \n",
       "44     835  1950      3    Indianapolis 500  Kurtis Kraft   kurtis_kraft   \n",
       "79     836  1950      4    Swiss Grand Prix    Alfa Romeo           alfa   \n",
       "97     837  1950      5  Belgian Grand Prix    Alfa Romeo           alfa   \n",
       "\n",
       "   forename  surname  grid  position positionText  positionOrder  points  \\\n",
       "0      Nino   Farina     1       1.0            1              1     9.0   \n",
       "23     Juan   Fangio     1       1.0            1              1     9.0   \n",
       "44  Johnnie  Parsons     5       1.0            1              1     9.0   \n",
       "79     Nino   Farina     2       1.0            1              1     9.0   \n",
       "97     Juan   Fangio     2       1.0            1              1     8.0   \n",
       "\n",
       "      status  \n",
       "0   Finished  \n",
       "23  Finished  \n",
       "44  Finished  \n",
       "79  Finished  \n",
       "97  Finished  "
      ]
     },
     "execution_count": 9,
     "metadata": {},
     "output_type": "execute_result"
    }
   ],
   "source": [
    "wins.head()"
   ]
  },
  {
   "cell_type": "code",
   "execution_count": 10,
   "metadata": {},
   "outputs": [
    {
     "name": "stdout",
     "output_type": "stream",
     "text": [
      "<class 'pandas.core.frame.DataFrame'>\n",
      "Int64Index: 1007 entries, 0 to 24320\n",
      "Data columns (total 14 columns):\n",
      "raceId            1007 non-null int64\n",
      "year              1007 non-null int64\n",
      "round             1007 non-null int64\n",
      "prixName          1007 non-null object\n",
      "constructor       1007 non-null object\n",
      "constructorRef    1007 non-null object\n",
      "forename          1007 non-null object\n",
      "surname           1007 non-null object\n",
      "grid              1007 non-null int64\n",
      "position          1007 non-null float64\n",
      "positionText      1007 non-null object\n",
      "positionOrder     1007 non-null int64\n",
      "points            1007 non-null float64\n",
      "status            1007 non-null object\n",
      "dtypes: float64(2), int64(5), object(7)\n",
      "memory usage: 118.0+ KB\n"
     ]
    }
   ],
   "source": [
    "wins.info()"
   ]
  },
  {
   "cell_type": "markdown",
   "metadata": {},
   "source": [
    "There is a discrepancy where we have 1007 winners and only 1004 races.\n",
    "\n",
    "---"
   ]
  },
  {
   "cell_type": "markdown",
   "metadata": {},
   "source": [
    "#### Finding: Some early races had two winners\n",
    "\n",
    "Exploring the above discrepancy between number of winners and number of races. Let's get some \"full prix names\" by combining `year` and `prixName` columns and seeing which instances are listed twice."
   ]
  },
  {
   "cell_type": "code",
   "execution_count": 11,
   "metadata": {},
   "outputs": [],
   "source": [
    "fullPrix = wins[\"year\"].map(str) + \" \" + wins[\"prixName\"]"
   ]
  },
  {
   "cell_type": "code",
   "execution_count": 12,
   "metadata": {},
   "outputs": [
    {
     "data": {
      "text/plain": [
       "1951 French Grand Prix            True\n",
       "1957 British Grand Prix           True\n",
       "1956 Argentine Grand Prix         True\n",
       "1996 Portuguese Grand Prix       False\n",
       "2011 Australian Grand Prix       False\n",
       "1953 British Grand Prix          False\n",
       "1980 Dutch Grand Prix            False\n",
       "2004 United States Grand Prix    False\n",
       "2001 French Grand Prix           False\n",
       "1959 British Grand Prix          False\n",
       "2010 Korean Grand Prix           False\n",
       "2000 Belgian Grand Prix          False\n",
       "2002 Brazilian Grand Prix        False\n",
       "1982 British Grand Prix          False\n",
       "2006 British Grand Prix          False\n",
       "1999 Spanish Grand Prix          False\n",
       "2008 Belgian Grand Prix          False\n",
       "1958 Indianapolis 500            False\n",
       "2006 European Grand Prix         False\n",
       "2001 Hungarian Grand Prix        False\n",
       "1972 Spanish Grand Prix          False\n",
       "1973 Spanish Grand Prix          False\n",
       "2000 San Marino Grand Prix       False\n",
       "1980 South African Grand Prix    False\n",
       "2017 Hungarian Grand Prix        False\n",
       "1971 Dutch Grand Prix            False\n",
       "1981 German Grand Prix           False\n",
       "2000 Japanese Grand Prix         False\n",
       "1963 Dutch Grand Prix            False\n",
       "2005 United States Grand Prix    False\n",
       "                                 ...  \n",
       "2012 Abu Dhabi Grand Prix        False\n",
       "2005 Belgian Grand Prix          False\n",
       "2018 Singapore Grand Prix        False\n",
       "1997 Belgian Grand Prix          False\n",
       "1963 United States Grand Prix    False\n",
       "1983 Detroit Grand Prix          False\n",
       "1976 South African Grand Prix    False\n",
       "1968 Dutch Grand Prix            False\n",
       "2016 Mexican Grand Prix          False\n",
       "1994 German Grand Prix           False\n",
       "1999 Hungarian Grand Prix        False\n",
       "1987 Spanish Grand Prix          False\n",
       "1975 United States Grand Prix    False\n",
       "1969 Italian Grand Prix          False\n",
       "2000 Hungarian Grand Prix        False\n",
       "2015 Brazilian Grand Prix        False\n",
       "1978 Argentine Grand Prix        False\n",
       "1971 Spanish Grand Prix          False\n",
       "1973 French Grand Prix           False\n",
       "1974 Belgian Grand Prix          False\n",
       "1984 Dallas Grand Prix           False\n",
       "2009 German Grand Prix           False\n",
       "2012 European Grand Prix         False\n",
       "1994 British Grand Prix          False\n",
       "1958 German Grand Prix           False\n",
       "2012 Australian Grand Prix       False\n",
       "1989 Japanese Grand Prix         False\n",
       "1977 Argentine Grand Prix        False\n",
       "2001 San Marino Grand Prix       False\n",
       "1961 Dutch Grand Prix            False\n",
       "Length: 1004, dtype: bool"
      ]
     },
     "execution_count": 12,
     "metadata": {},
     "output_type": "execute_result"
    }
   ],
   "source": [
    "fullPrix.value_counts() > 1 "
   ]
  },
  {
   "cell_type": "markdown",
   "metadata": {},
   "source": [
    "Let's look more closely at these three races:\n",
    "\n",
    "* 1951 French Grand Prix\n",
    "* 1956 Argentine Grand Prix\n",
    "* 1957 British Grand Prix"
   ]
  },
  {
   "cell_type": "code",
   "execution_count": 13,
   "metadata": {},
   "outputs": [],
   "source": [
    "frenchGP51 = wins[(wins.year == 1951) & (wins.prixName == \"French Grand Prix\")]"
   ]
  },
  {
   "cell_type": "code",
   "execution_count": 14,
   "metadata": {},
   "outputs": [
    {
     "data": {
      "text/html": [
       "<div>\n",
       "<style scoped>\n",
       "    .dataframe tbody tr th:only-of-type {\n",
       "        vertical-align: middle;\n",
       "    }\n",
       "\n",
       "    .dataframe tbody tr th {\n",
       "        vertical-align: top;\n",
       "    }\n",
       "\n",
       "    .dataframe thead th {\n",
       "        text-align: right;\n",
       "    }\n",
       "</style>\n",
       "<table border=\"1\" class=\"dataframe\">\n",
       "  <thead>\n",
       "    <tr style=\"text-align: right;\">\n",
       "      <th></th>\n",
       "      <th>raceId</th>\n",
       "      <th>year</th>\n",
       "      <th>round</th>\n",
       "      <th>prixName</th>\n",
       "      <th>constructor</th>\n",
       "      <th>constructorRef</th>\n",
       "      <th>forename</th>\n",
       "      <th>surname</th>\n",
       "      <th>grid</th>\n",
       "      <th>position</th>\n",
       "      <th>positionText</th>\n",
       "      <th>positionOrder</th>\n",
       "      <th>points</th>\n",
       "      <th>status</th>\n",
       "    </tr>\n",
       "  </thead>\n",
       "  <tbody>\n",
       "    <tr>\n",
       "      <th>228</th>\n",
       "      <td>828</td>\n",
       "      <td>1951</td>\n",
       "      <td>4</td>\n",
       "      <td>French Grand Prix</td>\n",
       "      <td>Alfa Romeo</td>\n",
       "      <td>alfa</td>\n",
       "      <td>Juan</td>\n",
       "      <td>Fangio</td>\n",
       "      <td>7</td>\n",
       "      <td>1.0</td>\n",
       "      <td>1</td>\n",
       "      <td>1</td>\n",
       "      <td>5.0</td>\n",
       "      <td>Finished</td>\n",
       "    </tr>\n",
       "    <tr>\n",
       "      <th>229</th>\n",
       "      <td>828</td>\n",
       "      <td>1951</td>\n",
       "      <td>4</td>\n",
       "      <td>French Grand Prix</td>\n",
       "      <td>Alfa Romeo</td>\n",
       "      <td>alfa</td>\n",
       "      <td>Luigi</td>\n",
       "      <td>Fagioli</td>\n",
       "      <td>7</td>\n",
       "      <td>1.0</td>\n",
       "      <td>1</td>\n",
       "      <td>1</td>\n",
       "      <td>4.0</td>\n",
       "      <td>Finished</td>\n",
       "    </tr>\n",
       "  </tbody>\n",
       "</table>\n",
       "</div>"
      ],
      "text/plain": [
       "     raceId  year  round           prixName constructor constructorRef  \\\n",
       "228     828  1951      4  French Grand Prix  Alfa Romeo           alfa   \n",
       "229     828  1951      4  French Grand Prix  Alfa Romeo           alfa   \n",
       "\n",
       "    forename  surname  grid  position positionText  positionOrder  points  \\\n",
       "228     Juan   Fangio     7       1.0            1              1     5.0   \n",
       "229    Luigi  Fagioli     7       1.0            1              1     4.0   \n",
       "\n",
       "       status  \n",
       "228  Finished  \n",
       "229  Finished  "
      ]
     },
     "execution_count": 14,
     "metadata": {},
     "output_type": "execute_result"
    }
   ],
   "source": [
    "frenchGP51.head()"
   ]
  },
  {
   "cell_type": "markdown",
   "metadata": {},
   "source": [
    "Looking at the [wikipedia page for this race](https://en.wikipedia.org/wiki/1951_French_Grand_Prix), Luigi Fagioli finished the race (40 laps) in the car that Juan Fangio had started in."
   ]
  },
  {
   "cell_type": "code",
   "execution_count": 15,
   "metadata": {},
   "outputs": [],
   "source": [
    "argentineGP56 = wins[(wins.year == 1956) & (wins.prixName == \"Argentine Grand Prix\")]\n",
    "britishGP57 = wins[(wins.year == 1957) & (wins.prixName == \"British Grand Prix\")]"
   ]
  },
  {
   "cell_type": "code",
   "execution_count": 16,
   "metadata": {},
   "outputs": [
    {
     "data": {
      "text/html": [
       "<div>\n",
       "<style scoped>\n",
       "    .dataframe tbody tr th:only-of-type {\n",
       "        vertical-align: middle;\n",
       "    }\n",
       "\n",
       "    .dataframe tbody tr th {\n",
       "        vertical-align: top;\n",
       "    }\n",
       "\n",
       "    .dataframe thead th {\n",
       "        text-align: right;\n",
       "    }\n",
       "</style>\n",
       "<table border=\"1\" class=\"dataframe\">\n",
       "  <thead>\n",
       "    <tr style=\"text-align: right;\">\n",
       "      <th></th>\n",
       "      <th>raceId</th>\n",
       "      <th>year</th>\n",
       "      <th>round</th>\n",
       "      <th>prixName</th>\n",
       "      <th>constructor</th>\n",
       "      <th>constructorRef</th>\n",
       "      <th>forename</th>\n",
       "      <th>surname</th>\n",
       "      <th>grid</th>\n",
       "      <th>position</th>\n",
       "      <th>positionText</th>\n",
       "      <th>positionOrder</th>\n",
       "      <th>points</th>\n",
       "      <th>status</th>\n",
       "    </tr>\n",
       "  </thead>\n",
       "  <tbody>\n",
       "    <tr>\n",
       "      <th>1210</th>\n",
       "      <td>784</td>\n",
       "      <td>1956</td>\n",
       "      <td>1</td>\n",
       "      <td>Argentine Grand Prix</td>\n",
       "      <td>Ferrari</td>\n",
       "      <td>ferrari</td>\n",
       "      <td>Luigi</td>\n",
       "      <td>Musso</td>\n",
       "      <td>3</td>\n",
       "      <td>1.0</td>\n",
       "      <td>1</td>\n",
       "      <td>1</td>\n",
       "      <td>5.0</td>\n",
       "      <td>Finished</td>\n",
       "    </tr>\n",
       "    <tr>\n",
       "      <th>1211</th>\n",
       "      <td>784</td>\n",
       "      <td>1956</td>\n",
       "      <td>1</td>\n",
       "      <td>Argentine Grand Prix</td>\n",
       "      <td>Ferrari</td>\n",
       "      <td>ferrari</td>\n",
       "      <td>Juan</td>\n",
       "      <td>Fangio</td>\n",
       "      <td>3</td>\n",
       "      <td>1.0</td>\n",
       "      <td>1</td>\n",
       "      <td>1</td>\n",
       "      <td>5.0</td>\n",
       "      <td>Finished</td>\n",
       "    </tr>\n",
       "  </tbody>\n",
       "</table>\n",
       "</div>"
      ],
      "text/plain": [
       "      raceId  year  round              prixName constructor constructorRef  \\\n",
       "1210     784  1956      1  Argentine Grand Prix     Ferrari        ferrari   \n",
       "1211     784  1956      1  Argentine Grand Prix     Ferrari        ferrari   \n",
       "\n",
       "     forename surname  grid  position positionText  positionOrder  points  \\\n",
       "1210    Luigi   Musso     3       1.0            1              1     5.0   \n",
       "1211     Juan  Fangio     3       1.0            1              1     5.0   \n",
       "\n",
       "        status  \n",
       "1210  Finished  \n",
       "1211  Finished  "
      ]
     },
     "execution_count": 16,
     "metadata": {},
     "output_type": "execute_result"
    }
   ],
   "source": [
    "argentineGP56.head()"
   ]
  },
  {
   "cell_type": "code",
   "execution_count": 17,
   "metadata": {},
   "outputs": [
    {
     "data": {
      "text/html": [
       "<div>\n",
       "<style scoped>\n",
       "    .dataframe tbody tr th:only-of-type {\n",
       "        vertical-align: middle;\n",
       "    }\n",
       "\n",
       "    .dataframe tbody tr th {\n",
       "        vertical-align: top;\n",
       "    }\n",
       "\n",
       "    .dataframe thead th {\n",
       "        text-align: right;\n",
       "    }\n",
       "</style>\n",
       "<table border=\"1\" class=\"dataframe\">\n",
       "  <thead>\n",
       "    <tr style=\"text-align: right;\">\n",
       "      <th></th>\n",
       "      <th>raceId</th>\n",
       "      <th>year</th>\n",
       "      <th>round</th>\n",
       "      <th>prixName</th>\n",
       "      <th>constructor</th>\n",
       "      <th>constructorRef</th>\n",
       "      <th>forename</th>\n",
       "      <th>surname</th>\n",
       "      <th>grid</th>\n",
       "      <th>position</th>\n",
       "      <th>positionText</th>\n",
       "      <th>positionOrder</th>\n",
       "      <th>points</th>\n",
       "      <th>status</th>\n",
       "    </tr>\n",
       "  </thead>\n",
       "  <tbody>\n",
       "    <tr>\n",
       "      <th>1489</th>\n",
       "      <td>780</td>\n",
       "      <td>1957</td>\n",
       "      <td>5</td>\n",
       "      <td>British Grand Prix</td>\n",
       "      <td>Vanwall</td>\n",
       "      <td>vanwall</td>\n",
       "      <td>Stirling</td>\n",
       "      <td>Moss</td>\n",
       "      <td>3</td>\n",
       "      <td>1.0</td>\n",
       "      <td>1</td>\n",
       "      <td>1</td>\n",
       "      <td>5.0</td>\n",
       "      <td>Finished</td>\n",
       "    </tr>\n",
       "    <tr>\n",
       "      <th>1490</th>\n",
       "      <td>780</td>\n",
       "      <td>1957</td>\n",
       "      <td>5</td>\n",
       "      <td>British Grand Prix</td>\n",
       "      <td>Vanwall</td>\n",
       "      <td>vanwall</td>\n",
       "      <td>Tony</td>\n",
       "      <td>Brooks</td>\n",
       "      <td>3</td>\n",
       "      <td>1.0</td>\n",
       "      <td>1</td>\n",
       "      <td>1</td>\n",
       "      <td>4.0</td>\n",
       "      <td>Finished</td>\n",
       "    </tr>\n",
       "  </tbody>\n",
       "</table>\n",
       "</div>"
      ],
      "text/plain": [
       "      raceId  year  round            prixName constructor constructorRef  \\\n",
       "1489     780  1957      5  British Grand Prix     Vanwall        vanwall   \n",
       "1490     780  1957      5  British Grand Prix     Vanwall        vanwall   \n",
       "\n",
       "      forename surname  grid  position positionText  positionOrder  points  \\\n",
       "1489  Stirling    Moss     3       1.0            1              1     5.0   \n",
       "1490      Tony  Brooks     3       1.0            1              1     4.0   \n",
       "\n",
       "        status  \n",
       "1489  Finished  \n",
       "1490  Finished  "
      ]
     },
     "execution_count": 17,
     "metadata": {},
     "output_type": "execute_result"
    }
   ],
   "source": [
    "britishGP57.head()"
   ]
  },
  {
   "cell_type": "markdown",
   "metadata": {},
   "source": [
    "In Argentina, Musso and Fangio shared a car and shared the first place points. Moss and Brooks also shared a car in the ’57 British Grand Prix. In each othese cases, the drivers split the points for first place. These are the only three races where this happened.\n",
    "\n",
    "---"
   ]
  },
  {
   "cell_type": "markdown",
   "metadata": {},
   "source": [
    "To handle these wins, let's create a slice of the wins that doesn't include driver info."
   ]
  },
  {
   "cell_type": "code",
   "execution_count": 18,
   "metadata": {},
   "outputs": [],
   "source": [
    "constructorWins = wins[[\"year\",\"round\",\"prixName\", \"constructor\", \"position\"]]"
   ]
  },
  {
   "cell_type": "code",
   "execution_count": 19,
   "metadata": {},
   "outputs": [
    {
     "data": {
      "text/html": [
       "<div>\n",
       "<style scoped>\n",
       "    .dataframe tbody tr th:only-of-type {\n",
       "        vertical-align: middle;\n",
       "    }\n",
       "\n",
       "    .dataframe tbody tr th {\n",
       "        vertical-align: top;\n",
       "    }\n",
       "\n",
       "    .dataframe thead th {\n",
       "        text-align: right;\n",
       "    }\n",
       "</style>\n",
       "<table border=\"1\" class=\"dataframe\">\n",
       "  <thead>\n",
       "    <tr style=\"text-align: right;\">\n",
       "      <th></th>\n",
       "      <th>year</th>\n",
       "      <th>round</th>\n",
       "      <th>prixName</th>\n",
       "      <th>constructor</th>\n",
       "      <th>position</th>\n",
       "    </tr>\n",
       "  </thead>\n",
       "  <tbody>\n",
       "    <tr>\n",
       "      <th>0</th>\n",
       "      <td>1950</td>\n",
       "      <td>1</td>\n",
       "      <td>British Grand Prix</td>\n",
       "      <td>Alfa Romeo</td>\n",
       "      <td>1.0</td>\n",
       "    </tr>\n",
       "    <tr>\n",
       "      <th>23</th>\n",
       "      <td>1950</td>\n",
       "      <td>2</td>\n",
       "      <td>Monaco Grand Prix</td>\n",
       "      <td>Alfa Romeo</td>\n",
       "      <td>1.0</td>\n",
       "    </tr>\n",
       "    <tr>\n",
       "      <th>44</th>\n",
       "      <td>1950</td>\n",
       "      <td>3</td>\n",
       "      <td>Indianapolis 500</td>\n",
       "      <td>Kurtis Kraft</td>\n",
       "      <td>1.0</td>\n",
       "    </tr>\n",
       "    <tr>\n",
       "      <th>79</th>\n",
       "      <td>1950</td>\n",
       "      <td>4</td>\n",
       "      <td>Swiss Grand Prix</td>\n",
       "      <td>Alfa Romeo</td>\n",
       "      <td>1.0</td>\n",
       "    </tr>\n",
       "    <tr>\n",
       "      <th>97</th>\n",
       "      <td>1950</td>\n",
       "      <td>5</td>\n",
       "      <td>Belgian Grand Prix</td>\n",
       "      <td>Alfa Romeo</td>\n",
       "      <td>1.0</td>\n",
       "    </tr>\n",
       "  </tbody>\n",
       "</table>\n",
       "</div>"
      ],
      "text/plain": [
       "    year  round            prixName   constructor  position\n",
       "0   1950      1  British Grand Prix    Alfa Romeo       1.0\n",
       "23  1950      2   Monaco Grand Prix    Alfa Romeo       1.0\n",
       "44  1950      3    Indianapolis 500  Kurtis Kraft       1.0\n",
       "79  1950      4    Swiss Grand Prix    Alfa Romeo       1.0\n",
       "97  1950      5  Belgian Grand Prix    Alfa Romeo       1.0"
      ]
     },
     "execution_count": 19,
     "metadata": {},
     "output_type": "execute_result"
    }
   ],
   "source": [
    "constructorWins.head()"
   ]
  },
  {
   "cell_type": "markdown",
   "metadata": {},
   "source": [
    "Now we can drop the duplicate rows without worry."
   ]
  },
  {
   "cell_type": "code",
   "execution_count": 20,
   "metadata": {},
   "outputs": [],
   "source": [
    "constructorWins = constructorWins.drop_duplicates()"
   ]
  },
  {
   "cell_type": "code",
   "execution_count": 21,
   "metadata": {},
   "outputs": [
    {
     "data": {
      "text/plain": [
       "False    1004\n",
       "dtype: int64"
      ]
     },
     "execution_count": 21,
     "metadata": {},
     "output_type": "execute_result"
    }
   ],
   "source": [
    "constructorWins.duplicated().value_counts()"
   ]
  },
  {
   "cell_type": "markdown",
   "metadata": {},
   "source": [
    "This corresponds to the number of races we have at the beginning. Now we can start grouping and summing to see who had the most wins"
   ]
  },
  {
   "cell_type": "code",
   "execution_count": 22,
   "metadata": {},
   "outputs": [],
   "source": [
    "groupedWins = constructorWins.groupby([\"year\",\"constructor\"]).position.sum()"
   ]
  },
  {
   "cell_type": "code",
   "execution_count": 23,
   "metadata": {},
   "outputs": [],
   "source": [
    "groupedWins = groupedWins.rename(\"wins\").reset_index().sort_values(\"year\")"
   ]
  },
  {
   "cell_type": "code",
   "execution_count": 24,
   "metadata": {},
   "outputs": [
    {
     "data": {
      "text/html": [
       "<div>\n",
       "<style scoped>\n",
       "    .dataframe tbody tr th:only-of-type {\n",
       "        vertical-align: middle;\n",
       "    }\n",
       "\n",
       "    .dataframe tbody tr th {\n",
       "        vertical-align: top;\n",
       "    }\n",
       "\n",
       "    .dataframe thead th {\n",
       "        text-align: right;\n",
       "    }\n",
       "</style>\n",
       "<table border=\"1\" class=\"dataframe\">\n",
       "  <thead>\n",
       "    <tr style=\"text-align: right;\">\n",
       "      <th></th>\n",
       "      <th>year</th>\n",
       "      <th>constructor</th>\n",
       "      <th>wins</th>\n",
       "    </tr>\n",
       "  </thead>\n",
       "  <tbody>\n",
       "    <tr>\n",
       "      <th>0</th>\n",
       "      <td>1950</td>\n",
       "      <td>Alfa Romeo</td>\n",
       "      <td>6.0</td>\n",
       "    </tr>\n",
       "    <tr>\n",
       "      <th>1</th>\n",
       "      <td>1950</td>\n",
       "      <td>Kurtis Kraft</td>\n",
       "      <td>1.0</td>\n",
       "    </tr>\n",
       "    <tr>\n",
       "      <th>2</th>\n",
       "      <td>1951</td>\n",
       "      <td>Alfa Romeo</td>\n",
       "      <td>4.0</td>\n",
       "    </tr>\n",
       "    <tr>\n",
       "      <th>3</th>\n",
       "      <td>1951</td>\n",
       "      <td>Ferrari</td>\n",
       "      <td>3.0</td>\n",
       "    </tr>\n",
       "    <tr>\n",
       "      <th>4</th>\n",
       "      <td>1951</td>\n",
       "      <td>Kurtis Kraft</td>\n",
       "      <td>1.0</td>\n",
       "    </tr>\n",
       "    <tr>\n",
       "      <th>5</th>\n",
       "      <td>1952</td>\n",
       "      <td>Ferrari</td>\n",
       "      <td>7.0</td>\n",
       "    </tr>\n",
       "    <tr>\n",
       "      <th>6</th>\n",
       "      <td>1952</td>\n",
       "      <td>Kuzma</td>\n",
       "      <td>1.0</td>\n",
       "    </tr>\n",
       "    <tr>\n",
       "      <th>7</th>\n",
       "      <td>1953</td>\n",
       "      <td>Ferrari</td>\n",
       "      <td>7.0</td>\n",
       "    </tr>\n",
       "    <tr>\n",
       "      <th>8</th>\n",
       "      <td>1953</td>\n",
       "      <td>Kurtis Kraft</td>\n",
       "      <td>1.0</td>\n",
       "    </tr>\n",
       "    <tr>\n",
       "      <th>9</th>\n",
       "      <td>1953</td>\n",
       "      <td>Maserati</td>\n",
       "      <td>1.0</td>\n",
       "    </tr>\n",
       "  </tbody>\n",
       "</table>\n",
       "</div>"
      ],
      "text/plain": [
       "   year   constructor  wins\n",
       "0  1950    Alfa Romeo   6.0\n",
       "1  1950  Kurtis Kraft   1.0\n",
       "2  1951    Alfa Romeo   4.0\n",
       "3  1951       Ferrari   3.0\n",
       "4  1951  Kurtis Kraft   1.0\n",
       "5  1952       Ferrari   7.0\n",
       "6  1952         Kuzma   1.0\n",
       "7  1953       Ferrari   7.0\n",
       "8  1953  Kurtis Kraft   1.0\n",
       "9  1953      Maserati   1.0"
      ]
     },
     "execution_count": 24,
     "metadata": {},
     "output_type": "execute_result"
    }
   ],
   "source": [
    "groupedWins.head(10)"
   ]
  },
  {
   "cell_type": "markdown",
   "metadata": {},
   "source": [
    "This `groupedWins` dataFrame is the count of wins a constructor had in a given season if they had won at least one race. For my analysis, I need to now filter this to only include the teams whose drivers won championships. I previously compiled the `championship_teams.csv` and have put it in the `data/working` folder."
   ]
  },
  {
   "cell_type": "code",
   "execution_count": 25,
   "metadata": {},
   "outputs": [],
   "source": [
    "championTeams = pd.read_csv(\"../data/working/championship_teams.csv\")"
   ]
  },
  {
   "cell_type": "code",
   "execution_count": 26,
   "metadata": {},
   "outputs": [
    {
     "data": {
      "text/html": [
       "<div>\n",
       "<style scoped>\n",
       "    .dataframe tbody tr th:only-of-type {\n",
       "        vertical-align: middle;\n",
       "    }\n",
       "\n",
       "    .dataframe tbody tr th {\n",
       "        vertical-align: top;\n",
       "    }\n",
       "\n",
       "    .dataframe thead th {\n",
       "        text-align: right;\n",
       "    }\n",
       "</style>\n",
       "<table border=\"1\" class=\"dataframe\">\n",
       "  <thead>\n",
       "    <tr style=\"text-align: right;\">\n",
       "      <th></th>\n",
       "      <th>year</th>\n",
       "      <th>constructor</th>\n",
       "    </tr>\n",
       "  </thead>\n",
       "  <tbody>\n",
       "    <tr>\n",
       "      <th>0</th>\n",
       "      <td>1950</td>\n",
       "      <td>Alfa Romeo</td>\n",
       "    </tr>\n",
       "    <tr>\n",
       "      <th>1</th>\n",
       "      <td>1951</td>\n",
       "      <td>Alfa Romeo</td>\n",
       "    </tr>\n",
       "    <tr>\n",
       "      <th>2</th>\n",
       "      <td>1952</td>\n",
       "      <td>Ferrari</td>\n",
       "    </tr>\n",
       "    <tr>\n",
       "      <th>3</th>\n",
       "      <td>1953</td>\n",
       "      <td>Ferrari</td>\n",
       "    </tr>\n",
       "    <tr>\n",
       "      <th>4</th>\n",
       "      <td>1954</td>\n",
       "      <td>Mercedes</td>\n",
       "    </tr>\n",
       "  </tbody>\n",
       "</table>\n",
       "</div>"
      ],
      "text/plain": [
       "   year constructor\n",
       "0  1950  Alfa Romeo\n",
       "1  1951  Alfa Romeo\n",
       "2  1952     Ferrari\n",
       "3  1953     Ferrari\n",
       "4  1954    Mercedes"
      ]
     },
     "execution_count": 26,
     "metadata": {},
     "output_type": "execute_result"
    }
   ],
   "source": [
    "championTeams.head()"
   ]
  },
  {
   "cell_type": "code",
   "execution_count": 27,
   "metadata": {},
   "outputs": [
    {
     "name": "stdout",
     "output_type": "stream",
     "text": [
      "<class 'pandas.core.frame.DataFrame'>\n",
      "RangeIndex: 69 entries, 0 to 68\n",
      "Data columns (total 2 columns):\n",
      "year           69 non-null int64\n",
      "constructor    69 non-null object\n",
      "dtypes: int64(1), object(1)\n",
      "memory usage: 1.2+ KB\n"
     ]
    }
   ],
   "source": [
    "championTeams.info()"
   ]
  },
  {
   "cell_type": "markdown",
   "metadata": {},
   "source": [
    "Now let's check where the matches are:"
   ]
  },
  {
   "cell_type": "code",
   "execution_count": 28,
   "metadata": {},
   "outputs": [],
   "source": [
    "comparison = pd.merge(groupedWins, championTeams, on=[\"year\",\"constructor\"], how=\"left\", indicator=\"Winner\")"
   ]
  },
  {
   "cell_type": "code",
   "execution_count": 29,
   "metadata": {},
   "outputs": [
    {
     "data": {
      "text/html": [
       "<div>\n",
       "<style scoped>\n",
       "    .dataframe tbody tr th:only-of-type {\n",
       "        vertical-align: middle;\n",
       "    }\n",
       "\n",
       "    .dataframe tbody tr th {\n",
       "        vertical-align: top;\n",
       "    }\n",
       "\n",
       "    .dataframe thead th {\n",
       "        text-align: right;\n",
       "    }\n",
       "</style>\n",
       "<table border=\"1\" class=\"dataframe\">\n",
       "  <thead>\n",
       "    <tr style=\"text-align: right;\">\n",
       "      <th></th>\n",
       "      <th>year</th>\n",
       "      <th>constructor</th>\n",
       "      <th>wins</th>\n",
       "      <th>Winner</th>\n",
       "    </tr>\n",
       "  </thead>\n",
       "  <tbody>\n",
       "    <tr>\n",
       "      <th>0</th>\n",
       "      <td>1950</td>\n",
       "      <td>Alfa Romeo</td>\n",
       "      <td>6.0</td>\n",
       "      <td>both</td>\n",
       "    </tr>\n",
       "    <tr>\n",
       "      <th>1</th>\n",
       "      <td>1950</td>\n",
       "      <td>Kurtis Kraft</td>\n",
       "      <td>1.0</td>\n",
       "      <td>left_only</td>\n",
       "    </tr>\n",
       "    <tr>\n",
       "      <th>2</th>\n",
       "      <td>1951</td>\n",
       "      <td>Alfa Romeo</td>\n",
       "      <td>4.0</td>\n",
       "      <td>both</td>\n",
       "    </tr>\n",
       "    <tr>\n",
       "      <th>3</th>\n",
       "      <td>1951</td>\n",
       "      <td>Ferrari</td>\n",
       "      <td>3.0</td>\n",
       "      <td>left_only</td>\n",
       "    </tr>\n",
       "    <tr>\n",
       "      <th>4</th>\n",
       "      <td>1951</td>\n",
       "      <td>Kurtis Kraft</td>\n",
       "      <td>1.0</td>\n",
       "      <td>left_only</td>\n",
       "    </tr>\n",
       "  </tbody>\n",
       "</table>\n",
       "</div>"
      ],
      "text/plain": [
       "   year   constructor  wins     Winner\n",
       "0  1950    Alfa Romeo   6.0       both\n",
       "1  1950  Kurtis Kraft   1.0  left_only\n",
       "2  1951    Alfa Romeo   4.0       both\n",
       "3  1951       Ferrari   3.0  left_only\n",
       "4  1951  Kurtis Kraft   1.0  left_only"
      ]
     },
     "execution_count": 29,
     "metadata": {},
     "output_type": "execute_result"
    }
   ],
   "source": [
    "comparison.head()"
   ]
  },
  {
   "cell_type": "code",
   "execution_count": 30,
   "metadata": {},
   "outputs": [],
   "source": [
    "championWins = comparison[comparison.Winner == \"both\"]"
   ]
  },
  {
   "cell_type": "code",
   "execution_count": 31,
   "metadata": {},
   "outputs": [
    {
     "data": {
      "text/html": [
       "<div>\n",
       "<style scoped>\n",
       "    .dataframe tbody tr th:only-of-type {\n",
       "        vertical-align: middle;\n",
       "    }\n",
       "\n",
       "    .dataframe tbody tr th {\n",
       "        vertical-align: top;\n",
       "    }\n",
       "\n",
       "    .dataframe thead th {\n",
       "        text-align: right;\n",
       "    }\n",
       "</style>\n",
       "<table border=\"1\" class=\"dataframe\">\n",
       "  <thead>\n",
       "    <tr style=\"text-align: right;\">\n",
       "      <th></th>\n",
       "      <th>year</th>\n",
       "      <th>constructor</th>\n",
       "      <th>wins</th>\n",
       "      <th>Winner</th>\n",
       "    </tr>\n",
       "  </thead>\n",
       "  <tbody>\n",
       "    <tr>\n",
       "      <th>0</th>\n",
       "      <td>1950</td>\n",
       "      <td>Alfa Romeo</td>\n",
       "      <td>6.0</td>\n",
       "      <td>both</td>\n",
       "    </tr>\n",
       "    <tr>\n",
       "      <th>2</th>\n",
       "      <td>1951</td>\n",
       "      <td>Alfa Romeo</td>\n",
       "      <td>4.0</td>\n",
       "      <td>both</td>\n",
       "    </tr>\n",
       "    <tr>\n",
       "      <th>5</th>\n",
       "      <td>1952</td>\n",
       "      <td>Ferrari</td>\n",
       "      <td>7.0</td>\n",
       "      <td>both</td>\n",
       "    </tr>\n",
       "    <tr>\n",
       "      <th>7</th>\n",
       "      <td>1953</td>\n",
       "      <td>Ferrari</td>\n",
       "      <td>7.0</td>\n",
       "      <td>both</td>\n",
       "    </tr>\n",
       "    <tr>\n",
       "      <th>11</th>\n",
       "      <td>1954</td>\n",
       "      <td>Mercedes</td>\n",
       "      <td>4.0</td>\n",
       "      <td>both</td>\n",
       "    </tr>\n",
       "  </tbody>\n",
       "</table>\n",
       "</div>"
      ],
      "text/plain": [
       "    year constructor  wins Winner\n",
       "0   1950  Alfa Romeo   6.0   both\n",
       "2   1951  Alfa Romeo   4.0   both\n",
       "5   1952     Ferrari   7.0   both\n",
       "7   1953     Ferrari   7.0   both\n",
       "11  1954    Mercedes   4.0   both"
      ]
     },
     "execution_count": 31,
     "metadata": {},
     "output_type": "execute_result"
    }
   ],
   "source": [
    "championWins.head()"
   ]
  },
  {
   "cell_type": "code",
   "execution_count": 32,
   "metadata": {},
   "outputs": [
    {
     "name": "stdout",
     "output_type": "stream",
     "text": [
      "<class 'pandas.core.frame.DataFrame'>\n",
      "Int64Index: 69 entries, 0 to 254\n",
      "Data columns (total 4 columns):\n",
      "year           69 non-null int64\n",
      "constructor    69 non-null object\n",
      "wins           69 non-null float64\n",
      "Winner         69 non-null category\n",
      "dtypes: category(1), float64(1), int64(1), object(1)\n",
      "memory usage: 2.3+ KB\n"
     ]
    }
   ],
   "source": [
    "championWins.info()"
   ]
  },
  {
   "cell_type": "markdown",
   "metadata": {},
   "source": [
    "We have the same length in championTeams and championWins so things seem to be working out. I will save this csv for plotting and further comparison."
   ]
  },
  {
   "cell_type": "code",
   "execution_count": 33,
   "metadata": {},
   "outputs": [],
   "source": [
    "championWins.to_csv(\"../data/processed/season_wins.csv\", index=False, mode=\"w+\")"
   ]
  },
  {
   "cell_type": "markdown",
   "metadata": {},
   "source": [
    "Because the number of races in each season change, we should normalize the number of wins by the number of races in each season. \n",
    "\n",
    "In terms of implementing this, a function should take a row from `championWins`, take the `year`, and then find the max of rounds from the `results` dataFrame."
   ]
  },
  {
   "cell_type": "code",
   "execution_count": null,
   "metadata": {},
   "outputs": [],
   "source": []
  }
 ],
 "metadata": {
  "kernelspec": {
   "display_name": "Python 3",
   "language": "python",
   "name": "python3"
  },
  "language_info": {
   "codemirror_mode": {
    "name": "ipython",
    "version": 3
   },
   "file_extension": ".py",
   "mimetype": "text/x-python",
   "name": "python",
   "nbconvert_exporter": "python",
   "pygments_lexer": "ipython3",
   "version": "3.7.3"
  }
 },
 "nbformat": 4,
 "nbformat_minor": 2
}
