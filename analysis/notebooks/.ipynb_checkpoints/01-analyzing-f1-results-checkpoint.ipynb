{
 "cells": [
  {
   "cell_type": "markdown",
   "metadata": {},
   "source": [
    "# Analyzing F1 results\n",
    "\n",
    "The question I'm trying to answer with my visualization project is: **\"Who had the best championship season?\"** In terms of answering this, I'm actually looking primarily at the constructors and not at the drivers. Although the drivers could be a more interesting angle to dive into.\n",
    "\n",
    "To answer this, I'm looking at:\n",
    "\n",
    "1. Wins in the season\n",
    "1. Overall Podiums in the season\n",
    "1. One-Two finishes\n",
    "\n",
    "Of the three, the One-Two finishes give the best idea of performance because they take into account the performance of the cars, the drivers, and the team at a race.\n",
    "\n",
    "---"
   ]
  },
  {
   "cell_type": "code",
   "execution_count": 1,
   "metadata": {},
   "outputs": [],
   "source": [
    "import pandas as pd\n",
    "import numpy as np"
   ]
  },
  {
   "cell_type": "markdown",
   "metadata": {},
   "source": [
    "## IDEA 1: Wins in the season\n",
    "\n",
    "I think this is the roughest way to look at the results. In this one I'm looking at the cases where `positionOrder == 1`."
   ]
  },
  {
   "cell_type": "code",
   "execution_count": 2,
   "metadata": {},
   "outputs": [],
   "source": [
    "results = pd.read_csv(\"../data/working/master_results.csv\")"
   ]
  },
  {
   "cell_type": "code",
   "execution_count": 3,
   "metadata": {},
   "outputs": [
    {
     "data": {
      "text/html": [
       "<div>\n",
       "<style scoped>\n",
       "    .dataframe tbody tr th:only-of-type {\n",
       "        vertical-align: middle;\n",
       "    }\n",
       "\n",
       "    .dataframe tbody tr th {\n",
       "        vertical-align: top;\n",
       "    }\n",
       "\n",
       "    .dataframe thead th {\n",
       "        text-align: right;\n",
       "    }\n",
       "</style>\n",
       "<table border=\"1\" class=\"dataframe\">\n",
       "  <thead>\n",
       "    <tr style=\"text-align: right;\">\n",
       "      <th></th>\n",
       "      <th>raceId</th>\n",
       "      <th>year</th>\n",
       "      <th>round</th>\n",
       "      <th>prixName</th>\n",
       "      <th>constructor</th>\n",
       "      <th>constructorRef</th>\n",
       "      <th>forename</th>\n",
       "      <th>surname</th>\n",
       "      <th>grid</th>\n",
       "      <th>position</th>\n",
       "      <th>positionText</th>\n",
       "      <th>positionOrder</th>\n",
       "      <th>points</th>\n",
       "      <th>status</th>\n",
       "    </tr>\n",
       "  </thead>\n",
       "  <tbody>\n",
       "    <tr>\n",
       "      <th>0</th>\n",
       "      <td>833</td>\n",
       "      <td>1950</td>\n",
       "      <td>1</td>\n",
       "      <td>British Grand Prix</td>\n",
       "      <td>Alfa Romeo</td>\n",
       "      <td>alfa</td>\n",
       "      <td>Nino</td>\n",
       "      <td>Farina</td>\n",
       "      <td>1</td>\n",
       "      <td>1.0</td>\n",
       "      <td>1</td>\n",
       "      <td>1</td>\n",
       "      <td>9.0</td>\n",
       "      <td>Finished</td>\n",
       "    </tr>\n",
       "    <tr>\n",
       "      <th>1</th>\n",
       "      <td>833</td>\n",
       "      <td>1950</td>\n",
       "      <td>1</td>\n",
       "      <td>British Grand Prix</td>\n",
       "      <td>Alfa Romeo</td>\n",
       "      <td>alfa</td>\n",
       "      <td>Luigi</td>\n",
       "      <td>Fagioli</td>\n",
       "      <td>2</td>\n",
       "      <td>2.0</td>\n",
       "      <td>2</td>\n",
       "      <td>2</td>\n",
       "      <td>6.0</td>\n",
       "      <td>Finished</td>\n",
       "    </tr>\n",
       "    <tr>\n",
       "      <th>2</th>\n",
       "      <td>833</td>\n",
       "      <td>1950</td>\n",
       "      <td>1</td>\n",
       "      <td>British Grand Prix</td>\n",
       "      <td>Alfa Romeo</td>\n",
       "      <td>alfa</td>\n",
       "      <td>Reg</td>\n",
       "      <td>Parnell</td>\n",
       "      <td>4</td>\n",
       "      <td>3.0</td>\n",
       "      <td>3</td>\n",
       "      <td>3</td>\n",
       "      <td>4.0</td>\n",
       "      <td>Finished</td>\n",
       "    </tr>\n",
       "    <tr>\n",
       "      <th>3</th>\n",
       "      <td>833</td>\n",
       "      <td>1950</td>\n",
       "      <td>1</td>\n",
       "      <td>British Grand Prix</td>\n",
       "      <td>Talbot-Lago</td>\n",
       "      <td>lago</td>\n",
       "      <td>Yves</td>\n",
       "      <td>Cabantous</td>\n",
       "      <td>6</td>\n",
       "      <td>4.0</td>\n",
       "      <td>4</td>\n",
       "      <td>4</td>\n",
       "      <td>3.0</td>\n",
       "      <td>+2 Laps</td>\n",
       "    </tr>\n",
       "    <tr>\n",
       "      <th>4</th>\n",
       "      <td>833</td>\n",
       "      <td>1950</td>\n",
       "      <td>1</td>\n",
       "      <td>British Grand Prix</td>\n",
       "      <td>Talbot-Lago</td>\n",
       "      <td>lago</td>\n",
       "      <td>Louis</td>\n",
       "      <td>Rosier</td>\n",
       "      <td>9</td>\n",
       "      <td>5.0</td>\n",
       "      <td>5</td>\n",
       "      <td>5</td>\n",
       "      <td>2.0</td>\n",
       "      <td>+2 Laps</td>\n",
       "    </tr>\n",
       "  </tbody>\n",
       "</table>\n",
       "</div>"
      ],
      "text/plain": [
       "   raceId  year  round            prixName  constructor constructorRef  \\\n",
       "0     833  1950      1  British Grand Prix   Alfa Romeo           alfa   \n",
       "1     833  1950      1  British Grand Prix   Alfa Romeo           alfa   \n",
       "2     833  1950      1  British Grand Prix   Alfa Romeo           alfa   \n",
       "3     833  1950      1  British Grand Prix  Talbot-Lago           lago   \n",
       "4     833  1950      1  British Grand Prix  Talbot-Lago           lago   \n",
       "\n",
       "  forename    surname  grid  position positionText  positionOrder  points  \\\n",
       "0     Nino     Farina     1       1.0            1              1     9.0   \n",
       "1    Luigi    Fagioli     2       2.0            2              2     6.0   \n",
       "2      Reg    Parnell     4       3.0            3              3     4.0   \n",
       "3     Yves  Cabantous     6       4.0            4              4     3.0   \n",
       "4    Louis     Rosier     9       5.0            5              5     2.0   \n",
       "\n",
       "     status  \n",
       "0  Finished  \n",
       "1  Finished  \n",
       "2  Finished  \n",
       "3   +2 Laps  \n",
       "4   +2 Laps  "
      ]
     },
     "execution_count": 3,
     "metadata": {},
     "output_type": "execute_result"
    }
   ],
   "source": [
    "results.head()"
   ]
  },
  {
   "cell_type": "markdown",
   "metadata": {},
   "source": [
    "First let's check that we have the right number of races."
   ]
  },
  {
   "cell_type": "code",
   "execution_count": 4,
   "metadata": {},
   "outputs": [],
   "source": [
    "races1 = results.groupby([\"year\",\"round\"])"
   ]
  },
  {
   "cell_type": "code",
   "execution_count": 5,
   "metadata": {},
   "outputs": [
    {
     "data": {
      "text/plain": [
       "1004"
      ]
     },
     "execution_count": 5,
     "metadata": {},
     "output_type": "execute_result"
    }
   ],
   "source": [
    "len(races1)"
   ]
  },
  {
   "cell_type": "code",
   "execution_count": 7,
   "metadata": {},
   "outputs": [],
   "source": [
    "races2 = results.groupby(\"raceId\")"
   ]
  },
  {
   "cell_type": "code",
   "execution_count": 9,
   "metadata": {},
   "outputs": [
    {
     "data": {
      "text/plain": [
       "1004"
      ]
     },
     "execution_count": 9,
     "metadata": {},
     "output_type": "execute_result"
    }
   ],
   "source": [
    "len(races2)"
   ]
  },
  {
   "cell_type": "markdown",
   "metadata": {},
   "source": [
    "Counting them two different ways we do end up with the total number of races that have happened in F1."
   ]
  },
  {
   "cell_type": "code",
   "execution_count": 10,
   "metadata": {},
   "outputs": [],
   "source": [
    "wins = results[(results.positionOrder == 1)]"
   ]
  },
  {
   "cell_type": "code",
   "execution_count": 12,
   "metadata": {},
   "outputs": [
    {
     "data": {
      "text/html": [
       "<div>\n",
       "<style scoped>\n",
       "    .dataframe tbody tr th:only-of-type {\n",
       "        vertical-align: middle;\n",
       "    }\n",
       "\n",
       "    .dataframe tbody tr th {\n",
       "        vertical-align: top;\n",
       "    }\n",
       "\n",
       "    .dataframe thead th {\n",
       "        text-align: right;\n",
       "    }\n",
       "</style>\n",
       "<table border=\"1\" class=\"dataframe\">\n",
       "  <thead>\n",
       "    <tr style=\"text-align: right;\">\n",
       "      <th></th>\n",
       "      <th>raceId</th>\n",
       "      <th>year</th>\n",
       "      <th>round</th>\n",
       "      <th>prixName</th>\n",
       "      <th>constructor</th>\n",
       "      <th>constructorRef</th>\n",
       "      <th>forename</th>\n",
       "      <th>surname</th>\n",
       "      <th>grid</th>\n",
       "      <th>position</th>\n",
       "      <th>positionText</th>\n",
       "      <th>positionOrder</th>\n",
       "      <th>points</th>\n",
       "      <th>status</th>\n",
       "    </tr>\n",
       "  </thead>\n",
       "  <tbody>\n",
       "    <tr>\n",
       "      <th>0</th>\n",
       "      <td>833</td>\n",
       "      <td>1950</td>\n",
       "      <td>1</td>\n",
       "      <td>British Grand Prix</td>\n",
       "      <td>Alfa Romeo</td>\n",
       "      <td>alfa</td>\n",
       "      <td>Nino</td>\n",
       "      <td>Farina</td>\n",
       "      <td>1</td>\n",
       "      <td>1.0</td>\n",
       "      <td>1</td>\n",
       "      <td>1</td>\n",
       "      <td>9.0</td>\n",
       "      <td>Finished</td>\n",
       "    </tr>\n",
       "    <tr>\n",
       "      <th>23</th>\n",
       "      <td>834</td>\n",
       "      <td>1950</td>\n",
       "      <td>2</td>\n",
       "      <td>Monaco Grand Prix</td>\n",
       "      <td>Alfa Romeo</td>\n",
       "      <td>alfa</td>\n",
       "      <td>Juan</td>\n",
       "      <td>Fangio</td>\n",
       "      <td>1</td>\n",
       "      <td>1.0</td>\n",
       "      <td>1</td>\n",
       "      <td>1</td>\n",
       "      <td>9.0</td>\n",
       "      <td>Finished</td>\n",
       "    </tr>\n",
       "    <tr>\n",
       "      <th>44</th>\n",
       "      <td>835</td>\n",
       "      <td>1950</td>\n",
       "      <td>3</td>\n",
       "      <td>Indianapolis 500</td>\n",
       "      <td>Kurtis Kraft</td>\n",
       "      <td>kurtis_kraft</td>\n",
       "      <td>Johnnie</td>\n",
       "      <td>Parsons</td>\n",
       "      <td>5</td>\n",
       "      <td>1.0</td>\n",
       "      <td>1</td>\n",
       "      <td>1</td>\n",
       "      <td>9.0</td>\n",
       "      <td>Finished</td>\n",
       "    </tr>\n",
       "    <tr>\n",
       "      <th>79</th>\n",
       "      <td>836</td>\n",
       "      <td>1950</td>\n",
       "      <td>4</td>\n",
       "      <td>Swiss Grand Prix</td>\n",
       "      <td>Alfa Romeo</td>\n",
       "      <td>alfa</td>\n",
       "      <td>Nino</td>\n",
       "      <td>Farina</td>\n",
       "      <td>2</td>\n",
       "      <td>1.0</td>\n",
       "      <td>1</td>\n",
       "      <td>1</td>\n",
       "      <td>9.0</td>\n",
       "      <td>Finished</td>\n",
       "    </tr>\n",
       "    <tr>\n",
       "      <th>97</th>\n",
       "      <td>837</td>\n",
       "      <td>1950</td>\n",
       "      <td>5</td>\n",
       "      <td>Belgian Grand Prix</td>\n",
       "      <td>Alfa Romeo</td>\n",
       "      <td>alfa</td>\n",
       "      <td>Juan</td>\n",
       "      <td>Fangio</td>\n",
       "      <td>2</td>\n",
       "      <td>1.0</td>\n",
       "      <td>1</td>\n",
       "      <td>1</td>\n",
       "      <td>8.0</td>\n",
       "      <td>Finished</td>\n",
       "    </tr>\n",
       "  </tbody>\n",
       "</table>\n",
       "</div>"
      ],
      "text/plain": [
       "    raceId  year  round            prixName   constructor constructorRef  \\\n",
       "0      833  1950      1  British Grand Prix    Alfa Romeo           alfa   \n",
       "23     834  1950      2   Monaco Grand Prix    Alfa Romeo           alfa   \n",
       "44     835  1950      3    Indianapolis 500  Kurtis Kraft   kurtis_kraft   \n",
       "79     836  1950      4    Swiss Grand Prix    Alfa Romeo           alfa   \n",
       "97     837  1950      5  Belgian Grand Prix    Alfa Romeo           alfa   \n",
       "\n",
       "   forename  surname  grid  position positionText  positionOrder  points  \\\n",
       "0      Nino   Farina     1       1.0            1              1     9.0   \n",
       "23     Juan   Fangio     1       1.0            1              1     9.0   \n",
       "44  Johnnie  Parsons     5       1.0            1              1     9.0   \n",
       "79     Nino   Farina     2       1.0            1              1     9.0   \n",
       "97     Juan   Fangio     2       1.0            1              1     8.0   \n",
       "\n",
       "      status  \n",
       "0   Finished  \n",
       "23  Finished  \n",
       "44  Finished  \n",
       "79  Finished  \n",
       "97  Finished  "
      ]
     },
     "execution_count": 12,
     "metadata": {},
     "output_type": "execute_result"
    }
   ],
   "source": [
    "wins.head()"
   ]
  },
  {
   "cell_type": "code",
   "execution_count": 16,
   "metadata": {},
   "outputs": [
    {
     "name": "stdout",
     "output_type": "stream",
     "text": [
      "<class 'pandas.core.frame.DataFrame'>\n",
      "Int64Index: 1007 entries, 0 to 24320\n",
      "Data columns (total 14 columns):\n",
      "raceId            1007 non-null int64\n",
      "year              1007 non-null int64\n",
      "round             1007 non-null int64\n",
      "prixName          1007 non-null object\n",
      "constructor       1007 non-null object\n",
      "constructorRef    1007 non-null object\n",
      "forename          1007 non-null object\n",
      "surname           1007 non-null object\n",
      "grid              1007 non-null int64\n",
      "position          1007 non-null float64\n",
      "positionText      1007 non-null object\n",
      "positionOrder     1007 non-null int64\n",
      "points            1007 non-null float64\n",
      "status            1007 non-null object\n",
      "dtypes: float64(2), int64(5), object(7)\n",
      "memory usage: 118.0+ KB\n"
     ]
    }
   ],
   "source": [
    "wins.info()"
   ]
  },
  {
   "cell_type": "markdown",
   "metadata": {},
   "source": [
    "There is a discrepancy where we have 1007 winners and only 1004 races. I don't know what to make of this right now."
   ]
  },
  {
   "cell_type": "code",
   "execution_count": 22,
   "metadata": {},
   "outputs": [
    {
     "data": {
      "text/plain": [
       "False    1007\n",
       "dtype: int64"
      ]
     },
     "execution_count": 22,
     "metadata": {},
     "output_type": "execute_result"
    }
   ],
   "source": [
    "wins.duplicated().value_counts()"
   ]
  },
  {
   "cell_type": "markdown",
   "metadata": {},
   "source": [
    "None of them seem to be duplicated, but I'll save them to a csv and see if Bjarni can weigh in on this."
   ]
  },
  {
   "cell_type": "code",
   "execution_count": null,
   "metadata": {},
   "outputs": [],
   "source": [
    "wins.to_csv(\"../data/working/winners.csv\")"
   ]
  }
 ],
 "metadata": {
  "kernelspec": {
   "display_name": "Python 3",
   "language": "python",
   "name": "python3"
  },
  "language_info": {
   "codemirror_mode": {
    "name": "ipython",
    "version": 3
   },
   "file_extension": ".py",
   "mimetype": "text/x-python",
   "name": "python",
   "nbconvert_exporter": "python",
   "pygments_lexer": "ipython3",
   "version": "3.7.3"
  }
 },
 "nbformat": 4,
 "nbformat_minor": 2
}
