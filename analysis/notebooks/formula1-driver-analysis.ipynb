{
 "cells": [
  {
   "cell_type": "markdown",
   "metadata": {},
   "source": [
    "# Formula 1 Championship Drivers\n",
    "\n",
    "I'm going to be looking at the gathered data from Formula 1 races from 1950–present. I got the data using the [Ergast Developer API](http://ergast.com/mrd/) and it has all the races from 1950 going forward. The data is stored across different relational tables, so I'll be doing some filtering and joining later.\n",
    "\n",
    "\n",
    "Some things to note about the data: \n",
    "\n",
    "* I last downloaded this data on 19-04-30, and it includes Azerbaijan GP 2019. I don't think it's too relevant to keep the races from 2019 in the analysis because I'll be looking at the past championship winners.\n",
    "* The tables are not chronologically organized in most cases. Races seem to start around Hamilton's debut with McLaren. Part of my initial cleaning and preparation is to get this re-organized. Drivers by date of birth, everything to races by the time they occured.\n",
    "* In the standings table, a new entry is not added after a race if the driver does not change standings.\n",
    "* When a cell is `\\N` it means the cell is null, or the value wasn't recorded. This largely applies to things for which we had no data in the beginning.\n",
    "* Looking at the original `raceId`, something happened because Azerbaijan GP 2019 was the 1001st race but their id for the same race was 1014. I assume the counting was pushed ahead somewhere in the middle, but things seem to line up. **I'll come back to look at this later**."
   ]
  },
  {
   "cell_type": "markdown",
   "metadata": {},
   "source": [
    "## Cleaning the data — part 1\n",
    "\n",
    "The original data is saved (sans zip) in `data/f1db_raw`. I made a copy of the folder and renamed it to `f1db_excelPrep`.\n",
    "\n",
    "The first cleaning thing I'm doing is going through every table in `data/f1db_excelPrep/` and:\n",
    "* adding the headings for each table using the [f1db_schema.txt](../data/f1db_schema.txt) as a guideline\n",
    "* removing the `\\N` wherever it appears\n",
    "* formatting dates to yyyy-mm-dd, and creating columns for month, date, and year separately.\n",
    "* Sort drivers, and races chronologically and create new temporary driver and race Ids. \n",
    "\n",
    "I'll do this in excel and save the files in the folder: `data/f1db_excelPrep/`.\n",
    "\n",
    "During this I noticed in constructor results that there is a `D` status that I don't know what it means. **I will look into this later.**"
   ]
  },
  {
   "cell_type": "markdown",
   "metadata": {},
   "source": [
    "## Cleaning the data —part 2\n",
    "\n",
    "In the first part of cleaning, I re-organized the `driverId`'s and `raceId`'s chronologically, so now I want to pass that info to the other tables so that everything is chronological.\n",
    "\n",
    "What do I need to update for each table?\n",
    "\n",
    "* circuits: *nothing*\n",
    "* constructor_results: raceId\n",
    "* constructor_standings: raceId\n",
    "* constructors: *nothing*\n",
    "* driver_standings: raceId, driverId\n",
    "* driver: *nothing*\n",
    "* lap_times: raceId, driverId\n",
    "* pit_stops: raceId, driverId\n",
    "* qualifying: raceId, driverId\n",
    "* races: *nothing*\n",
    "* results: raceId, driverId\n",
    "* seasons: *nothing*\n",
    "* status: *nothing*\n",
    "\n",
    "The tables that don't need to be updated, I'll go ahead and make direct copies of and put them in the `data/f1db_working/` which will be the tables I use for analysis.\n"
   ]
  },
  {
   "cell_type": "code",
   "execution_count": 1,
   "metadata": {},
   "outputs": [],
   "source": [
    "import numpy as np\n",
    "import pandas as pd"
   ]
  },
  {
   "cell_type": "code",
   "execution_count": null,
   "metadata": {},
   "outputs": [],
   "source": []
  }
 ],
 "metadata": {
  "kernelspec": {
   "display_name": "Python 3",
   "language": "python",
   "name": "python3"
  },
  "language_info": {
   "codemirror_mode": {
    "name": "ipython",
    "version": 3
   },
   "file_extension": ".py",
   "mimetype": "text/x-python",
   "name": "python",
   "nbconvert_exporter": "python",
   "pygments_lexer": "ipython3",
   "version": "3.7.3"
  }
 },
 "nbformat": 4,
 "nbformat_minor": 2
}
